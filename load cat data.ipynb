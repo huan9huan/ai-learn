{
 "cells": [
  {
   "cell_type": "markdown",
   "metadata": {},
   "source": [
    "# load the cat no cat image"
   ]
  },
  {
   "cell_type": "code",
   "execution_count": 1,
   "metadata": {},
   "outputs": [
    {
     "name": "stderr",
     "output_type": "stream",
     "text": [
      "Using TensorFlow backend.\n"
     ]
    }
   ],
   "source": [
    "train_data_dir = \"/Users/xuan/work/dataset/cat-no-cat/train\"\n",
    "from keras.preprocessing import image\n",
    "import numpy as np\n",
    "import os"
   ]
  },
  {
   "cell_type": "code",
   "execution_count": 17,
   "metadata": {},
   "outputs": [
    {
     "name": "stdout",
     "output_type": "stream",
     "text": [
      "['/Users/xuan/work/dataset/cat-no-cat/train/cat/IMG_8672.jpg', '/Users/xuan/work/dataset/cat-no-cat/train/cat/IMG_8673.jpg', '/Users/xuan/work/dataset/cat-no-cat/train/cat/IMG_8674.jpg', '/Users/xuan/work/dataset/cat-no-cat/train/cat/IMG_8675.jpg', '/Users/xuan/work/dataset/cat-no-cat/train/cat/IMG_8676.jpg', '/Users/xuan/work/dataset/cat-no-cat/train/cat/IMG_8690.jpg', '/Users/xuan/work/dataset/cat-no-cat/train/cat/IMG_8771.jpg', '/Users/xuan/work/dataset/cat-no-cat/train/cat/IMG_8790.jpg', '/Users/xuan/work/dataset/cat-no-cat/train/cat/IMG_8837.jpg', '/Users/xuan/work/dataset/cat-no-cat/train/cat/IMG_8843.jpg', '/Users/xuan/work/dataset/cat-no-cat/train/cat/IMG_8866.jpg', '/Users/xuan/work/dataset/cat-no-cat/train/cat/IMG_8877.jpg', '/Users/xuan/work/dataset/cat-no-cat/train/cat/IMG_8878.jpg', '/Users/xuan/work/dataset/cat-no-cat/train/cat/IMG_8879.jpg', '/Users/xuan/work/dataset/cat-no-cat/train/cat/IMG_8880.jpg', '/Users/xuan/work/dataset/cat-no-cat/train/cat/IMG_9116.jpg', '/Users/xuan/work/dataset/cat-no-cat/train/cat/IMG_9230.jpg', '/Users/xuan/work/dataset/cat-no-cat/train/cat/IMG_9912.jpg', '/Users/xuan/work/dataset/cat-no-cat/train/cat/IMG_9937.jpg', '/Users/xuan/work/dataset/cat-no-cat/train/cat/m-IMG_8672.jpg', '/Users/xuan/work/dataset/cat-no-cat/train/cat/m-IMG_8673.jpg', '/Users/xuan/work/dataset/cat-no-cat/train/cat/m-IMG_8674.jpg', '/Users/xuan/work/dataset/cat-no-cat/train/cat/m-IMG_8675.jpg', '/Users/xuan/work/dataset/cat-no-cat/train/cat/m-IMG_8676.jpg', '/Users/xuan/work/dataset/cat-no-cat/train/cat/m-IMG_8690.jpg', '/Users/xuan/work/dataset/cat-no-cat/train/cat/m-IMG_8771.jpg', '/Users/xuan/work/dataset/cat-no-cat/train/cat/m-IMG_8790.jpg', '/Users/xuan/work/dataset/cat-no-cat/train/cat/m-IMG_8837.jpg', '/Users/xuan/work/dataset/cat-no-cat/train/cat/m-IMG_8843.jpg', '/Users/xuan/work/dataset/cat-no-cat/train/cat/m-IMG_8866.jpg', '/Users/xuan/work/dataset/cat-no-cat/train/cat/m-IMG_8877.jpg', '/Users/xuan/work/dataset/cat-no-cat/train/cat/m-IMG_8878.jpg', '/Users/xuan/work/dataset/cat-no-cat/train/cat/m-IMG_8879.jpg', '/Users/xuan/work/dataset/cat-no-cat/train/cat/m-IMG_8880.jpg', '/Users/xuan/work/dataset/cat-no-cat/train/cat/m-IMG_9116.jpg', '/Users/xuan/work/dataset/cat-no-cat/train/cat/m-IMG_9230.jpg', '/Users/xuan/work/dataset/cat-no-cat/train/cat/m-IMG_9912.jpg', '/Users/xuan/work/dataset/cat-no-cat/train/cat/m-IMG_9937.jpg']\n"
     ]
    }
   ],
   "source": [
    "train_data_dir = \"/Users/xuan/work/dataset/cat-no-cat/train\"\n",
    "train_cat_dir = train_data_dir + \"/cat\"\n",
    "cats_images = [x for x in os.listdir(train_cat_dir) if x.endswith(\".jpg\")]\n",
    "cats_image_files = [train_cat_dir + \"/\" + i for i in cats_images]\n",
    "\n",
    "train_nocat_dir = train_data_dir + \"/no-cat\"\n",
    "no_cats_images = [x for x in os.listdir(train_nocat_dir) if x.endswith(\".png\")]\n",
    "no_cats_image_files = [train_nocat_dir + \"/\" + i for i in no_cats_images]\n",
    "print cats_image_files\n"
   ]
  },
  {
   "cell_type": "code",
   "execution_count": 18,
   "metadata": {},
   "outputs": [
    {
     "name": "stdout",
     "output_type": "stream",
     "text": [
      "(1, 224, 224, 3)\n"
     ]
    }
   ],
   "source": [
    "cats_images = [image.load_img(img_path, target_size=(224, 224)) for img_path in cats_image_files] \n",
    "cats_images = [image.img_to_array(img) for img in cats_images] \n",
    "cats_images = [np.expand_dims(x, axis=0) for x in cats_images]\n",
    "print cats_images[0].shape"
   ]
  },
  {
   "cell_type": "code",
   "execution_count": 27,
   "metadata": {},
   "outputs": [],
   "source": [
    "def load_imgs(dir):\n",
    "    images_files = [x for x in os.listdir(dir) if x.endswith(\".jpg\") | x.endswith(\".png\")]\n",
    "    images_files = [dir + \"/\" + i for i in images_files]\n",
    "    \n",
    "    images = [image.load_img(img_path, target_size=(224, 224)) for img_path in images_files] \n",
    "    images = [image.img_to_array(img) for img in images] \n",
    "    images = [np.expand_dims(x, axis=0) for x in images]\n",
    "    return images"
   ]
  },
  {
   "cell_type": "code",
   "execution_count": 35,
   "metadata": {},
   "outputs": [],
   "source": [
    "def load_train():\n",
    "    train_data_dir = \"/Users/xuan/work/dataset/cat-no-cat/train\"\n",
    "    cats = load_imgs(train_data_dir + \"/cat\")\n",
    "    cats_labels = [1 for i in range(len(cats))]\n",
    "    no_cats = load_imgs(train_data_dir + \"/no-cat\")\n",
    "    no_cats_labels = [0 for i in range(len(cats))]\n",
    "    \n",
    "    train_x = cats + no_cats\n",
    "    train_y = cats_labels + no_cats_labels\n",
    "    return (train_x, train_y)\n"
   ]
  },
  {
   "cell_type": "code",
   "execution_count": 40,
   "metadata": {},
   "outputs": [
    {
     "name": "stdout",
     "output_type": "stream",
     "text": [
      "(1, 224, 224, 3)\n",
      "[1, 1, 1, 1, 1, 1, 1, 1, 1, 1, 1, 1, 1, 1, 1, 1, 1, 1, 1, 1, 1, 1, 1, 1, 1, 1, 1, 1, 1, 1, 1, 1, 1, 1, 1, 1, 1, 1, 0, 0, 0, 0, 0, 0, 0, 0, 0, 0, 0, 0, 0, 0, 0, 0, 0, 0, 0, 0, 0, 0, 0, 0, 0, 0, 0, 0, 0, 0, 0, 0, 0, 0, 0, 0, 0, 0]\n"
     ]
    }
   ],
   "source": [
    "X, Y = load_train()\n",
    "print X[0].shape\n",
    "print Y"
   ]
  },
  {
   "cell_type": "code",
   "execution_count": null,
   "metadata": {},
   "outputs": [],
   "source": []
  },
  {
   "cell_type": "code",
   "execution_count": null,
   "metadata": {},
   "outputs": [],
   "source": []
  }
 ],
 "metadata": {
  "kernelspec": {
   "display_name": "Python 2",
   "language": "python",
   "name": "python2"
  },
  "language_info": {
   "codemirror_mode": {
    "name": "ipython",
    "version": 2
   },
   "file_extension": ".py",
   "mimetype": "text/x-python",
   "name": "python",
   "nbconvert_exporter": "python",
   "pygments_lexer": "ipython2",
   "version": "2.7.10"
  }
 },
 "nbformat": 4,
 "nbformat_minor": 2
}
