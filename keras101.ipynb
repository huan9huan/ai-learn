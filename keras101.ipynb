{
 "cells": [
  {
   "cell_type": "code",
   "execution_count": 3,
   "metadata": {},
   "outputs": [
    {
     "name": "stderr",
     "output_type": "stream",
     "text": [
      "Using TensorFlow backend.\n"
     ]
    }
   ],
   "source": [
    "from keras import backend as K\n",
    "import tensorflow as tf\n",
    "import numpy as np"
   ]
  },
  {
   "cell_type": "code",
   "execution_count": 6,
   "metadata": {},
   "outputs": [
    {
     "name": "stdout",
     "output_type": "stream",
     "text": [
      "after create the tensor <tf.Variable 'Variable_2:0' shape=(2, 2) dtype=float32_ref>\n",
      "use eval to print the vaule [[ 1.  2.]\n",
      " [ 3.  4.]]\n"
     ]
    }
   ],
   "source": [
    "# learn how to use eval to print the variables\n",
    "kvar = K.variable(np.array([[1, 2], [3, 4]]), dtype='float32')\n",
    "print \"after create the tensor\", kvar\n",
    "print \"use eval to print the vaule\", K.eval(kvar)"
   ]
  },
  {
   "cell_type": "code",
   "execution_count": 12,
   "metadata": {},
   "outputs": [
    {
     "name": "stdout",
     "output_type": "stream",
     "text": [
      "before cast, the float values as  [[ 1.20000005  2.        ]\n",
      " [ 3.0999999   4.        ]]\n",
      "after cast, the int values as  [[1 2]\n",
      " [3 4]]\n"
     ]
    }
   ],
   "source": [
    "# learn how to use cast\n",
    "c = K.variable(np.array([[1.2, 2], [3.1, 4]]), dtype='float32')\n",
    "print \"before cast, the float values as \", K.eval(c)\n",
    "c_int = K.cast(c, dtype = \"int16\")\n",
    "print \"after cast, the int values as \", K.eval(c_int)"
   ]
  },
  {
   "cell_type": "code",
   "execution_count": 21,
   "metadata": {},
   "outputs": [
    {
     "name": "stdout",
     "output_type": "stream",
     "text": [
      " the var as  [[ 1.  2.  3.]\n",
      " [ 4.  5.  6.]]\n",
      "indices by second column [[ 2.]\n",
      " [ 5.]]\n"
     ]
    }
   ],
   "source": [
    "# learn how to use gather\n",
    "var = K.variable(np.array([[1, 2, 3], [4, 5, 6]]), dtype='float32')\n",
    "print \"the var as \", K.eval(var)\n",
    "print \"indices by second column\", K.eval(var[..., 1:2])\n",
    "# print \"indices by second column by gather\", K.eval(K.gather(kvar, [1,2]))"
   ]
  },
  {
   "cell_type": "code",
   "execution_count": 25,
   "metadata": {},
   "outputs": [
    {
     "name": "stdout",
     "output_type": "stream",
     "text": [
      "the var as  [[ 1.  2.  3.]\n",
      " [ 4.  5.  6.]]\n",
      "sum by column [[  6.]\n",
      " [ 15.]]\n"
     ]
    }
   ],
   "source": [
    "# learn how to do sum\n",
    "var =  K.variable(np.array([[1, 2, 3], [4, 5, 6]]), dtype='float32')\n",
    "print \"the var as \", K.eval(var)\n",
    "print \"sum by column\", K.eval(K.sum(var, axis = -1, keepdims = True))\n"
   ]
  },
  {
   "cell_type": "code",
   "execution_count": 37,
   "metadata": {},
   "outputs": [
    {
     "name": "stdout",
     "output_type": "stream",
     "text": [
      "the single mask as  [[ 1.  0.  0.]\n",
      " [ 1.  0.  0.]]\n",
      "the scaled mask as  [[ 1.  0.  0.]\n",
      " [ 1.  0.  0.]\n",
      " [ 1.  0.  0.]\n",
      " [ 1.  0.  0.]]\n"
     ]
    }
   ],
   "source": [
    "# learn the repeat\n",
    "mask =  K.variable(np.array([[1, 0, 0], [1, 0, 0]]), dtype='float32')\n",
    "print \"the single mask as \", K.eval(mask)\n",
    "print \"the scaled mask as \", K.eval(K.stack(K.repeat_elements(mask, 2, 0)))"
   ]
  },
  {
   "cell_type": "code",
   "execution_count": 53,
   "metadata": {},
   "outputs": [
    {
     "name": "stdout",
     "output_type": "stream",
     "text": [
      "the single mask as  [[ 1.  0.  0.  1.  0.  0.]]\n",
      "after split, the single mask as  [[[ 1.  0.  0.]]\n",
      "\n",
      " [[ 1.  0.  0.]]]\n",
      "reshape, after split, the single mask as  [[[ 1.  0.  0.]]\n",
      "\n",
      " [[ 1.  0.  0.]]]\n"
     ]
    }
   ],
   "source": [
    "# split data\n",
    "mask =  K.variable(np.array([[1, 0, 0, 1, 0, 0]]), dtype='float32')\n",
    "print \"the single mask as \", K.eval(mask)\n",
    "print \"after split, the single mask as \", K.eval(K.stack(tf.split(mask, num_or_size_splits = 2, axis = -1)))\n",
    "print \"reshape, after split, the single mask as \", K.eval(K.reshape(mask, (2, -1, 3)))"
   ]
  },
  {
   "cell_type": "code",
   "execution_count": 63,
   "metadata": {},
   "outputs": [
    {
     "name": "stdout",
     "output_type": "stream",
     "text": [
      "[0 1 2 3]\n"
     ]
    },
    {
     "data": {
      "text/plain": [
       "array([0, 1, 2, 3], dtype=int32)"
      ]
     },
     "execution_count": 63,
     "metadata": {},
     "output_type": "execute_result"
    }
   ],
   "source": [
    "# learn arange\n",
    "print np.arange(0, 4, 1)\n",
    "K.eval(K.arange(0, 4, 1))"
   ]
  },
  {
   "cell_type": "code",
   "execution_count": 74,
   "metadata": {},
   "outputs": [
    {
     "name": "stdout",
     "output_type": "stream",
     "text": [
      "[[1 0 0 1 0 0]\n",
      " [2 0 0 2 0 0]\n",
      " [1 0 0 1 0 0]\n",
      " [2 0 0 2 0 0]]\n"
     ]
    }
   ],
   "source": [
    "# learn tile\n",
    "print np.tile([[1,0,0],[2,0,0]], (2,2))"
   ]
  },
  {
   "cell_type": "code",
   "execution_count": 92,
   "metadata": {},
   "outputs": [
    {
     "name": "stdout",
     "output_type": "stream",
     "text": [
      "[[ 0.  0.  0.]]\n",
      "[[ 3.46410155  0.          0.        ]]\n",
      "[[ 3.46410155  0.          0.        ]]\n",
      "3.4641\n"
     ]
    }
   ],
   "source": [
    "# sqrt\n",
    "l = K.variable(np.array([[-11, 0, 0]]))\n",
    "r = K.variable(np.array([[1, 0, 0]]))\n",
    "# v = K.variable((l - r), dtype='float32')\n",
    "print K.eval(K.sqrt(l - r))\n",
    "print K.eval(K.sqrt(r - l))\n",
    "print K.eval(K.sqrt(K.abs(l - r)))\n",
    "print K.eval(K.sum(K.sqrt(K.abs(l - r))))\n",
    "print K.eval(K.sum(K.sqrt(K.abs(l - r))))"
   ]
  },
  {
   "cell_type": "code",
   "execution_count": 95,
   "metadata": {},
   "outputs": [
    {
     "data": {
      "text/plain": [
       "4.0"
      ]
     },
     "execution_count": 95,
     "metadata": {},
     "output_type": "execute_result"
    }
   ],
   "source": [
    "l = K.variable(np.array([[-1, 0, 0]]))\n",
    "r = K.variable(np.array([[1, 0, 0]]))\n",
    "K.eval(K.sum(K.square(l - r)))"
   ]
  },
  {
   "cell_type": "code",
   "execution_count": 98,
   "metadata": {},
   "outputs": [
    {
     "data": {
      "text/plain": [
       "array([[-0.01,  0.  ,  0.  ]])"
      ]
     },
     "execution_count": 98,
     "metadata": {},
     "output_type": "execute_result"
    }
   ],
   "source": [
    "# learn round\n",
    "K.eval(K.round(np.array([[-0.01, 0.0001, 0]]) * 100.0) / 100.0)"
   ]
  },
  {
   "cell_type": "code",
   "execution_count": 99,
   "metadata": {},
   "outputs": [
    {
     "data": {
      "text/plain": [
       "array([1, 5, 6])"
      ]
     },
     "execution_count": 99,
     "metadata": {},
     "output_type": "execute_result"
    }
   ],
   "source": [
    "np.random.randint(0, 10, [3])"
   ]
  },
  {
   "cell_type": "code",
   "execution_count": 18,
   "metadata": {},
   "outputs": [
    {
     "name": "stdout",
     "output_type": "stream",
     "text": [
      "[[False  True  True]]\n"
     ]
    },
    {
     "ename": "TypeError",
     "evalue": "data type not understood",
     "output_type": "error",
     "traceback": [
      "\u001b[0;31m---------------------------------------------------------------------------\u001b[0m",
      "\u001b[0;31mTypeError\u001b[0m                                 Traceback (most recent call last)",
      "\u001b[0;32m<ipython-input-18-d37d4a6431e5>\u001b[0m in \u001b[0;36m<module>\u001b[0;34m()\u001b[0m\n\u001b[1;32m      3\u001b[0m \u001b[0mr\u001b[0m \u001b[0;34m=\u001b[0m \u001b[0mnp\u001b[0m\u001b[0;34m.\u001b[0m\u001b[0marray\u001b[0m\u001b[0;34m(\u001b[0m\u001b[0;34m[\u001b[0m\u001b[0;34m[\u001b[0m\u001b[0;36m1\u001b[0m\u001b[0;34m,\u001b[0m \u001b[0;36m0\u001b[0m\u001b[0;34m,\u001b[0m \u001b[0;36m0\u001b[0m\u001b[0;34m]\u001b[0m\u001b[0;34m]\u001b[0m\u001b[0;34m)\u001b[0m\u001b[0;34m\u001b[0m\u001b[0m\n\u001b[1;32m      4\u001b[0m \u001b[0;32mprint\u001b[0m \u001b[0ml\u001b[0m \u001b[0;34m==\u001b[0m \u001b[0mr\u001b[0m\u001b[0;34m\u001b[0m\u001b[0m\n\u001b[0;32m----> 5\u001b[0;31m \u001b[0mK\u001b[0m\u001b[0;34m.\u001b[0m\u001b[0mswitch\u001b[0m\u001b[0;34m(\u001b[0m\u001b[0mnp\u001b[0m\u001b[0;34m.\u001b[0m\u001b[0msum\u001b[0m\u001b[0;34m(\u001b[0m\u001b[0ml\u001b[0m\u001b[0;34m)\u001b[0m \u001b[0;34m==\u001b[0m \u001b[0mnp\u001b[0m\u001b[0;34m.\u001b[0m\u001b[0msum\u001b[0m\u001b[0;34m(\u001b[0m\u001b[0mr\u001b[0m\u001b[0;34m)\u001b[0m\u001b[0;34m,\u001b[0m \u001b[0ml\u001b[0m \u001b[0;34m,\u001b[0m \u001b[0mr\u001b[0m\u001b[0;34m)\u001b[0m\u001b[0;34m\u001b[0m\u001b[0m\n\u001b[0m",
      "\u001b[0;32m/Library/Python/2.7/site-packages/keras/backend/tensorflow_backend.pyc\u001b[0m in \u001b[0;36mswitch\u001b[0;34m(condition, then_expression, else_expression)\u001b[0m\n\u001b[1;32m   2647\u001b[0m         \u001b[0mValueError\u001b[0m\u001b[0;34m:\u001b[0m \u001b[0mIf\u001b[0m \u001b[0mrank\u001b[0m \u001b[0mof\u001b[0m \u001b[0;34m`\u001b[0m\u001b[0mcondition\u001b[0m\u001b[0;34m`\u001b[0m \u001b[0;32mis\u001b[0m \u001b[0mgreater\u001b[0m \u001b[0mthan\u001b[0m \u001b[0mrank\u001b[0m \u001b[0mof\u001b[0m \u001b[0mexpressions\u001b[0m\u001b[0;34m.\u001b[0m\u001b[0;34m\u001b[0m\u001b[0m\n\u001b[1;32m   2648\u001b[0m     \"\"\"\n\u001b[0;32m-> 2649\u001b[0;31m     \u001b[0;32mif\u001b[0m \u001b[0mcondition\u001b[0m\u001b[0;34m.\u001b[0m\u001b[0mdtype\u001b[0m \u001b[0;34m!=\u001b[0m \u001b[0mtf\u001b[0m\u001b[0;34m.\u001b[0m\u001b[0mbool\u001b[0m\u001b[0;34m:\u001b[0m\u001b[0;34m\u001b[0m\u001b[0m\n\u001b[0m\u001b[1;32m   2650\u001b[0m         \u001b[0mcondition\u001b[0m \u001b[0;34m=\u001b[0m \u001b[0mtf\u001b[0m\u001b[0;34m.\u001b[0m\u001b[0mcast\u001b[0m\u001b[0;34m(\u001b[0m\u001b[0mcondition\u001b[0m\u001b[0;34m,\u001b[0m \u001b[0;34m'bool'\u001b[0m\u001b[0;34m)\u001b[0m\u001b[0;34m\u001b[0m\u001b[0m\n\u001b[1;32m   2651\u001b[0m     \u001b[0mcond_ndim\u001b[0m \u001b[0;34m=\u001b[0m \u001b[0mndim\u001b[0m\u001b[0;34m(\u001b[0m\u001b[0mcondition\u001b[0m\u001b[0;34m)\u001b[0m\u001b[0;34m\u001b[0m\u001b[0m\n",
      "\u001b[0;31mTypeError\u001b[0m: data type not understood"
     ]
    }
   ],
   "source": [
    "# learn switch\n",
    "l = np.array([[-1, 0, 0]])\n",
    "r = np.array([[1, 0, 0]])\n",
    "print l == r\n",
    "# K.switch(np.sum(l) == np.sum(r), l , r)"
   ]
  },
  {
   "cell_type": "code",
   "execution_count": null,
   "metadata": {},
   "outputs": [],
   "source": []
  }
 ],
 "metadata": {
  "kernelspec": {
   "display_name": "Python 2",
   "language": "python",
   "name": "python2"
  },
  "language_info": {
   "codemirror_mode": {
    "name": "ipython",
    "version": 2
   },
   "file_extension": ".py",
   "mimetype": "text/x-python",
   "name": "python",
   "nbconvert_exporter": "python",
   "pygments_lexer": "ipython2",
   "version": "2.7.10"
  }
 },
 "nbformat": 4,
 "nbformat_minor": 2
}
