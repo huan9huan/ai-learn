{
 "cells": [
  {
   "cell_type": "markdown",
   "metadata": {},
   "source": [
    "# practise keras working with tensor\n",
    "https://blog.keras.io/keras-as-a-simplified-interface-to-tensorflow-tutorial.html"
   ]
  },
  {
   "cell_type": "code",
   "execution_count": 37,
   "metadata": {
    "scrolled": true
   },
   "outputs": [
    {
     "name": "stdout",
     "output_type": "stream",
     "text": [
      "Extracting ../data/train-images-idx3-ubyte.gz\n",
      "Extracting ../data/train-labels-idx1-ubyte.gz\n",
      "Extracting ../data/t10k-images-idx3-ubyte.gz\n",
      "Extracting ../data/t10k-labels-idx1-ubyte.gz\n"
     ]
    }
   ],
   "source": [
    "import tensorflow as tf\n",
    "from keras.layers import Dense\n",
    "sess = tf.Session()\n",
    "from keras import backend as K\n",
    "from tensorflow.examples.tutorials.mnist import input_data\n",
    "from keras.objectives import categorical_crossentropy\n",
    "K.set_session(sess)\n",
    "mnist = input_data.read_data_sets('../data/', one_hot=True)\n",
    "from keras.layers import Dropout"
   ]
  },
  {
   "cell_type": "code",
   "execution_count": 42,
   "metadata": {},
   "outputs": [],
   "source": [
    "img = tf.placeholder(tf.float32, shape=(None, 784))\n",
    "labels = tf.placeholder(tf.float32, shape=(None, 10))"
   ]
  },
  {
   "cell_type": "code",
   "execution_count": 71,
   "metadata": {},
   "outputs": [
    {
     "name": "stdout",
     "output_type": "stream",
     "text": [
      "\n"
     ]
    }
   ],
   "source": [
    "x = Dense(128, activation=\"relu\")(img)\n",
    "x = Dropout(0.5)(x)\n",
    "fc2 = Dense(128, activation=\"relu\") #later will get the weights value\n",
    "x = fc2(x)\n",
    "x = Dropout(0.5)(x)\n",
    "preds = Dense(10, activation='softmax')(x)"
   ]
  },
  {
   "cell_type": "code",
   "execution_count": 44,
   "metadata": {},
   "outputs": [
    {
     "name": "stdout",
     "output_type": "stream",
     "text": [
      "Tensor(\"keras_learning_phase:0\", dtype=bool)\n"
     ]
    }
   ],
   "source": [
    "print K.learning_phase()"
   ]
  },
  {
   "cell_type": "code",
   "execution_count": 72,
   "metadata": {},
   "outputs": [],
   "source": [
    "loss = tf.reduce_mean(categorical_crossentropy(labels, preds))"
   ]
  },
  {
   "cell_type": "code",
   "execution_count": 79,
   "metadata": {},
   "outputs": [
    {
     "name": "stdout",
     "output_type": "stream",
     "text": [
      " fc2 weights [<tf.Variable 'dense_21/kernel:0' shape=(128, 128) dtype=float32_ref>, <tf.Variable 'dense_21/bias:0' shape=(128,) dtype=float32_ref>]\n"
     ]
    }
   ],
   "source": [
    "train_step = tf.train.AdamOptimizer().minimize(loss)\n",
    "init_op = tf.global_variables_initializer()\n",
    "sess.run(init_op)\n",
    "with sess.as_default():\n",
    "    for i in range(100):\n",
    "        batch = mnist.train.next_batch(50)\n",
    "        train_step.run(feed_dict={img: batch[0],\n",
    "                                  labels: batch[1],\n",
    "                                  K.learning_phase(): 1})\n",
    "\n"
   ]
  },
  {
   "cell_type": "code",
   "execution_count": 81,
   "metadata": {},
   "outputs": [
    {
     "name": "stdout",
     "output_type": "stream",
     "text": [
      "fc2 weights [array([[-0.11786288,  0.13579156,  0.03662761, ..., -0.11721329,\n",
      "        -0.03856478, -0.14634937],\n",
      "       [ 0.13027838,  0.10740706,  0.08328394, ..., -0.10050807,\n",
      "        -0.05632507,  0.0227666 ],\n",
      "       [ 0.01961162,  0.10616274, -0.06113019, ..., -0.13647401,\n",
      "        -0.02271413, -0.01968545],\n",
      "       ..., \n",
      "       [-0.12157992, -0.09973125, -0.00729594, ...,  0.19212471,\n",
      "        -0.11877449, -0.10678274],\n",
      "       [-0.0384235 , -0.11585895,  0.0905657 , ..., -0.11894649,\n",
      "        -0.04322152, -0.09542518],\n",
      "       [ 0.08089212, -0.05324098,  0.01611204, ..., -0.11731761,\n",
      "        -0.04279475,  0.04973493]], dtype=float32), array([ -5.51569834e-03,   3.49257253e-02,   3.07981018e-03,\n",
      "         2.00786311e-02,   1.29579809e-02,   1.30622722e-02,\n",
      "         2.61676591e-02,  -1.76067289e-03,   1.25611853e-02,\n",
      "         1.38780866e-02,  -2.82405224e-03,   1.28261023e-03,\n",
      "        -7.08048884e-03,  -1.72701944e-03,  -1.46027217e-02,\n",
      "        -1.15432059e-02,  -2.05093785e-03,   1.43062333e-02,\n",
      "        -7.90354738e-04,   1.54835870e-02,   9.24042985e-03,\n",
      "         6.17565727e-03,  -5.66905364e-03,   1.51004195e-02,\n",
      "         2.06021294e-02,   2.10773014e-02,   2.61613801e-02,\n",
      "        -1.61417536e-02,   3.50315720e-02,  -6.40628394e-03,\n",
      "         3.22533352e-03,   8.85766558e-03,  -4.26954217e-03,\n",
      "         1.50043303e-02,   2.16489565e-02,  -1.31938700e-02,\n",
      "        -2.93443874e-02,  -7.08033622e-05,  -4.84367786e-03,\n",
      "         1.41720334e-02,  -7.00935954e-03,   2.97179092e-02,\n",
      "         1.38204889e-02,   5.39040565e-03,  -8.60475469e-03,\n",
      "         1.09079275e-02,   2.85685286e-02,  -1.35678321e-03,\n",
      "        -9.19837505e-03,  -1.89608224e-02,   3.53931561e-02,\n",
      "         4.59578773e-03,   4.27540625e-03,  -2.17681434e-02,\n",
      "         2.19344776e-02,   1.10352542e-02,   2.63759885e-02,\n",
      "         2.99937068e-03,   3.94883938e-03,   1.82005914e-03,\n",
      "        -9.48105194e-03,  -9.92586836e-03,   8.82733241e-03,\n",
      "         1.34332823e-02,   8.19913857e-03,  -1.78380427e-03,\n",
      "         1.10195614e-02,   3.23990197e-03,   4.84982785e-03,\n",
      "        -4.32213303e-03,  -6.25997595e-03,   2.11277623e-02,\n",
      "         1.83353834e-02,   7.23839318e-03,   1.47847040e-02,\n",
      "         3.21804509e-02,   6.96505141e-03,   1.59995761e-02,\n",
      "        -2.20572893e-02,   3.15522845e-03,   2.65206080e-02,\n",
      "         2.48207394e-02,   2.28852918e-03,  -7.85516109e-03,\n",
      "        -8.76451842e-03,  -6.97812205e-03,   3.02572623e-02,\n",
      "         8.37538205e-03,  -7.77889136e-03,   3.32525745e-02,\n",
      "         3.80500294e-02,  -1.96946785e-02,   3.13960165e-02,\n",
      "         2.26762481e-02,   1.73419155e-02,   1.43144093e-03,\n",
      "         1.69606544e-02,   1.90284960e-02,   2.38570198e-02,\n",
      "         1.76284853e-02,   3.84775246e-03,  -1.99056640e-02,\n",
      "         1.12704467e-02,   2.22987644e-02,  -1.55213391e-02,\n",
      "         1.92152932e-02,   1.53495856e-02,  -7.60117499e-03,\n",
      "         7.17438292e-03,  -1.51835335e-03,   1.51792569e-02,\n",
      "         2.57568546e-02,  -1.40057169e-02,  -1.89050138e-02,\n",
      "         2.37503345e-03,  -3.43595486e-04,   8.29894748e-03,\n",
      "        -5.06366044e-03,   2.24936903e-02,   1.25280330e-02,\n",
      "         2.22353451e-02,  -7.77248410e-04,   7.00381165e-03,\n",
      "        -1.94560830e-02,  -2.09708186e-03,   3.39993127e-02,\n",
      "        -1.50866145e-02,   2.06998113e-04], dtype=float32)]\n"
     ]
    }
   ],
   "source": [
    "print \"fc2 weights\", sess.run(fc2.trainable_weights)"
   ]
  },
  {
   "cell_type": "code",
   "execution_count": 58,
   "metadata": {},
   "outputs": [
    {
     "name": "stdout",
     "output_type": "stream",
     "text": [
      "acc as  9427.0 / 10000\n"
     ]
    }
   ],
   "source": [
    "from keras.metrics import categorical_accuracy as accuracy\n",
    "acc_value = accuracy(labels, preds)\n",
    "with sess.as_default():\n",
    "    acc = acc_value.eval(feed_dict={img: mnist.test.images,\n",
    "                                    labels: mnist.test.labels,\n",
    "                                    K.learning_phase(): 0})\n",
    "    print \"acc as \", sum(acc), \"/\", len(acc)"
   ]
  }
 ],
 "metadata": {
  "kernelspec": {
   "display_name": "Python 2",
   "language": "python",
   "name": "python2"
  },
  "language_info": {
   "codemirror_mode": {
    "name": "ipython",
    "version": 2
   },
   "file_extension": ".py",
   "mimetype": "text/x-python",
   "name": "python",
   "nbconvert_exporter": "python",
   "pygments_lexer": "ipython2",
   "version": "2.7.10"
  }
 },
 "nbformat": 4,
 "nbformat_minor": 2
}
