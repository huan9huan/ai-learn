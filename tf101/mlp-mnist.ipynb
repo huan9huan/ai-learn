{
 "cells": [
  {
   "cell_type": "markdown",
   "metadata": {},
   "source": [
    "# deep nn with dropout"
   ]
  },
  {
   "cell_type": "code",
   "execution_count": 1,
   "metadata": {},
   "outputs": [
    {
     "name": "stdout",
     "output_type": "stream",
     "text": [
      "Extracting ../data/train-images-idx3-ubyte.gz\n",
      "Extracting ../data/train-labels-idx1-ubyte.gz\n",
      "Extracting ../data/t10k-images-idx3-ubyte.gz\n",
      "Extracting ../data/t10k-labels-idx1-ubyte.gz\n"
     ]
    }
   ],
   "source": [
    "import numpy as np\n",
    "import tensorflow as tf\n",
    "import matplotlib.pyplot as plt\n",
    "from tensorflow.examples.tutorials.mnist import input_data\n",
    "%matplotlib inline\n",
    "\n",
    "mnist = input_data.read_data_sets('../data/', one_hot=True)"
   ]
  },
  {
   "cell_type": "markdown",
   "metadata": {},
   "source": [
    "# define model"
   ]
  },
  {
   "cell_type": "code",
   "execution_count": 2,
   "metadata": {},
   "outputs": [
    {
     "name": "stdout",
     "output_type": "stream",
     "text": [
      "NETWORK ready!\n"
     ]
    }
   ],
   "source": [
    "n_input = 28 * 28 * 1 ## n_height = n_width = 28, n_c = 1\n",
    "n_l1 = 128 ## layer 1 node count\n",
    "\n",
    "n_classes = 10 ## the output class count, the softmax output\n",
    "\n",
    "x = tf.placeholder(tf.float32, shape=[None, n_input])\n",
    "y = tf.placeholder(tf.float32, shape=[None, n_classes])\n",
    "stddev = 0.05\n",
    "w1 = tf.Variable(tf.random_normal([n_input, n_l1], stddev=stddev))\n",
    "b1 = tf.Variable(tf.zeros([1, n_l1]))\n",
    "\n",
    "w2 = tf.Variable(tf.random_normal([n_l1, n_classes], stddev=stddev))\n",
    "b2 = tf.Variable(tf.zeros([1, n_classes]))\n",
    "\n",
    "print \"NETWORK ready!\""
   ]
  },
  {
   "cell_type": "code",
   "execution_count": 3,
   "metadata": {},
   "outputs": [
    {
     "name": "stdout",
     "output_type": "stream",
     "text": [
      "gradient decent is ready\n"
     ]
    }
   ],
   "source": [
    "def z(X, W, b):\n",
    "    return tf.add(tf.matmul(X, W) , b)\n",
    "## define the graph\n",
    "z1 = z(x, w1, b1)\n",
    "a1 = tf.nn.sigmoid(z1)\n",
    "\n",
    "z2 = z(a1, w2, b2)\n",
    "y_ = tf.nn.softmax(z2)\n",
    "\n",
    "learning_rate = 0.001\n",
    "\n",
    "# cost\n",
    "cost = tf.reduce_mean(tf.nn.softmax_cross_entropy_with_logits(logits=y_, labels=y))\n",
    "# optm = tf.train.GradientDescentOptimizer(learning_rate).minimize(cost)\n",
    "optm = tf.train.AdamOptimizer().minimize(cost)\n",
    "corr = tf.equal(tf.argmax(y_, 1), tf.argmax(y, 1))\n",
    "accr = tf.reduce_mean(tf.cast(corr, tf.float32))\n",
    "\n",
    "# initialize\n",
    "init = tf.global_variables_initializer()\n",
    "print \"gradient decent is ready\""
   ]
  },
  {
   "cell_type": "code",
   "execution_count": 5,
   "metadata": {},
   "outputs": [
    {
     "name": "stdout",
     "output_type": "stream",
     "text": [
      "init run done\n",
      "total batch  429\n",
      "#Epoch  0\n",
      "Epoch: 000/010 cost: 1.805062529\n",
      "TRAIN ACCURACY: 0.781\n",
      "TEST ACCURACY: 0.848\n",
      "#Epoch  1\n",
      "Epoch: 001/010 cost: 1.578660777\n",
      "TRAIN ACCURACY: 0.945\n",
      "TEST ACCURACY: 0.926\n",
      "#Epoch  2\n",
      "Epoch: 002/010 cost: 1.547456722\n",
      "TRAIN ACCURACY: 0.953\n",
      "TEST ACCURACY: 0.937\n",
      "#Epoch  3\n",
      "Epoch: 003/010 cost: 1.534358830\n",
      "TRAIN ACCURACY: 0.938\n",
      "TEST ACCURACY: 0.942\n",
      "#Epoch  4\n",
      "Epoch: 004/010 cost: 1.525526925\n",
      "TRAIN ACCURACY: 0.945\n",
      "TEST ACCURACY: 0.947\n",
      "#Epoch  5\n",
      "Epoch: 005/010 cost: 1.518840484\n",
      "TRAIN ACCURACY: 0.977\n",
      "TEST ACCURACY: 0.951\n",
      "#Epoch  6\n",
      "Epoch: 006/010 cost: 1.513697762\n",
      "TRAIN ACCURACY: 0.969\n",
      "TEST ACCURACY: 0.954\n",
      "#Epoch  7\n",
      "Epoch: 007/010 cost: 1.509312522\n",
      "TRAIN ACCURACY: 0.977\n",
      "TEST ACCURACY: 0.955\n",
      "#Epoch  8\n",
      "Epoch: 008/010 cost: 1.505706831\n",
      "TRAIN ACCURACY: 0.961\n",
      "TEST ACCURACY: 0.958\n",
      "#Epoch  9\n",
      "Epoch: 009/010 cost: 1.502539490\n",
      "TRAIN ACCURACY: 0.969\n",
      "TEST ACCURACY: 0.960\n",
      "OPTIMIZATION FINISHED\n"
     ]
    }
   ],
   "source": [
    "# run it!\n",
    "epochs = 10\n",
    "batch_size      = 128\n",
    "display_step    = 1\n",
    "# LAUNCH THE GRAPH\n",
    "sess = tf.Session()\n",
    "sess.run(init)\n",
    "print \"init run done\"\n",
    "\n",
    "total_batch = int(mnist.train.num_examples/batch_size)\n",
    "print \"total batch \", total_batch\n",
    "\n",
    "# Summary\n",
    "writer = tf.summary.FileWriter('/tmp/tf_logs/mlp-mnist', graph=sess.graph)\n",
    "tf.summary.scalar(\"cost_per_batch\", cost)\n",
    "tf.summary.scalar(\"accuracy\", accr)\n",
    "ss = tf.summary.merge_all()\n",
    "\n",
    "# OPTIMIZE\n",
    "j = 0;\n",
    "for epoch in range(epochs):\n",
    "    avg_cost = 0.\n",
    "    print \"#Epoch \", epoch\n",
    "    \n",
    "    # ITERATION\n",
    "    for i in range(total_batch):\n",
    "        j += 1\n",
    "        batch_xs, batch_ys = mnist.train.next_batch(batch_size)\n",
    "        feeds = {x: batch_xs, y: batch_ys}\n",
    "        _, summary, percost = sess.run([optm, ss, cost], feed_dict=feeds)\n",
    "        avg_cost += percost\n",
    "        writer.add_summary(summary, j)\n",
    "    avg_cost = avg_cost / total_batch\n",
    "    \n",
    "    # DISPLAY\n",
    "    if (epoch+1) % display_step == 0:\n",
    "        print (\"Epoch: %03d/%03d cost: %.9f\" % (epoch, epochs, avg_cost))\n",
    "        feeds = {x: batch_xs, y: batch_ys}\n",
    "        train_acc = sess.run(accr, feed_dict=feeds)\n",
    "        print (\"TRAIN ACCURACY: %.3f\" % (train_acc))\n",
    "        feeds = {x: mnist.test.images, y: mnist.test.labels}\n",
    "        test_acc = sess.run(accr, feed_dict=feeds)\n",
    "        print (\"TEST ACCURACY: %.3f\" % (test_acc))\n",
    "                \n",
    "print (\"OPTIMIZATION FINISHED\")"
   ]
  },
  {
   "cell_type": "code",
   "execution_count": null,
   "metadata": {},
   "outputs": [],
   "source": []
  }
 ],
 "metadata": {
  "kernelspec": {
   "display_name": "Python 2",
   "language": "python",
   "name": "python2"
  },
  "language_info": {
   "codemirror_mode": {
    "name": "ipython",
    "version": 2
   },
   "file_extension": ".py",
   "mimetype": "text/x-python",
   "name": "python",
   "nbconvert_exporter": "python",
   "pygments_lexer": "ipython2",
   "version": "2.7.10"
  }
 },
 "nbformat": 4,
 "nbformat_minor": 2
}
