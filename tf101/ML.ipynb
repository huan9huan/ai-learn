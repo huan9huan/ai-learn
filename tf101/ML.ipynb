{
 "cells": [
  {
   "cell_type": "code",
   "execution_count": 1,
   "metadata": {},
   "outputs": [
    {
     "name": "stdout",
     "output_type": "stream",
     "text": [
      "Packages Loaded\n"
     ]
    }
   ],
   "source": [
    "import tensorflow as tf\n",
    "import numpy as np\n",
    "import matplotlib.pyplot as plt\n",
    "%matplotlib inline  \n",
    "print (\"Packages Loaded\")"
   ]
  },
  {
   "cell_type": "code",
   "execution_count": 36,
   "metadata": {},
   "outputs": [
    {
     "name": "stdout",
     "output_type": "stream",
     "text": [
      "\n",
      "(\" Type of 'train_X' is \", <type 'numpy.ndarray'>)\n",
      " Shape of 'train_X' is (1, 20)\n",
      "(\" Type of 'train_Y' is \", <type 'numpy.ndarray'>)\n",
      " Shape of 'train_Y' is (1, 20)\n"
     ]
    },
    {
     "data": {
      "text/plain": [
       "<matplotlib.legend.Legend at 0x10c226050>"
      ]
     },
     "execution_count": 36,
     "metadata": {},
     "output_type": "execute_result"
    },
    {
     "data": {
      "image/png": "[encoded data removed]",
      "text/plain": [
       "<matplotlib.figure.Figure at 0x10c173910>"
      ]
     },
     "metadata": {},
     "output_type": "display_data"
    }
   ],
   "source": [
    "# generate train data\n",
    "def f(x, a, b):\n",
    "#     n = x.size\n",
    "#     vals = np.zeros((1, n))\n",
    "    return x * a + b\n",
    "    \n",
    "np.random.seed(1)\n",
    "m = 20\n",
    "Wref = 0.7\n",
    "bref= -1.\n",
    "noise_var = 0.001\n",
    "train_X   = np.ones((1, m))\n",
    "train_X   = np.random.random((1, n))\n",
    "ref_Y = f(train_X, Wref, bref)\n",
    "train_Y   = ref_Y + np.sqrt(noise_var)*np.random.randn(1, n)\n",
    "train_X = np.float32(train_X)\n",
    "train_Y = np.float32(train_Y)\n",
    "print (\"\")\n",
    "print (\" Type of 'train_X' is \", type(train_X))\n",
    "print (\" Shape of 'train_X' is %s\" % (train_X.shape,))\n",
    "print (\" Type of 'train_Y' is \", type(train_Y))\n",
    "print (\" Shape of 'train_Y' is %s\" % (train_Y.shape,))\n",
    "\n",
    "#plot\n",
    "plt.figure(1)\n",
    "plt.plot(train_X[0, :], ref_Y[0, :], 'ro', label='Original data')\n",
    "plt.plot(train_X[0, :], train_Y[0, :], 'bo', label='Training data')\n",
    "plt.axis('equal')\n",
    "plt.legend(loc='lower right')"
   ]
  },
  {
   "cell_type": "code",
   "execution_count": 115,
   "metadata": {},
   "outputs": [
    {
     "name": "stdout",
     "output_type": "stream",
     "text": [
      "X tensor as  Tensor(\"input_26:0\", shape=(1, 20), dtype=float32)\n"
     ]
    }
   ],
   "source": [
    "# build the modal for Linear model\n",
    "\n",
    "epochs = 1000\n",
    "step = 50\n",
    "learning_rate = 0.1\n",
    "\n",
    "X = tf.placeholder(tf.float32, shape=(1, m), name = \"input\")\n",
    "y = tf.placeholder(tf.float32, shape=(1, m), name = \"output\")\n",
    "W = tf.Variable(np.random.randn(), name=\"weight\")\n",
    "b = tf.Variable(np.random.randn(), name=\"bias\")\n",
    "print \"X tensor as \", X\n",
    "\n",
    "# graph\n",
    "y_ = W * X + b\n",
    "\n",
    "#cost \n",
    "cost = tf.reduce_mean(tf.pow(y_ - y, 2))\n",
    "\n",
    "# optimizer\n",
    "optimizer = tf.train.GradientDescentOptimizer(learning_rate).minimize(cost)\n",
    "# optimizer = tf.train.AdamOptimizer().minimize(cost)\n",
    "\n",
    "# initialize\n",
    "init = tf.global_variables_initializer()"
   ]
  },
  {
   "cell_type": "code",
   "execution_count": 116,
   "metadata": {},
   "outputs": [
    {
     "data": {
      "image/png": "[encoded data removed]",
      "text/plain": [
       "<matplotlib.figure.Figure at 0x10e190850>"
      ]
     },
     "metadata": {},
     "output_type": "display_data"
    }
   ],
   "source": [
    "# let's run\n",
    "sess = tf.Session()\n",
    "sess.run(init)\n",
    "\n",
    "plt.figure(2)\n",
    "learning_paths = np.empty((0, 2))\n",
    "\n",
    "for epoch in range(epochs):\n",
    "    sess.run(optimizer, feed_dict={X:train_X, y: train_Y})\n",
    "    \n",
    "    if epoch % step == 0:\n",
    "        costval = sess.run(cost, feed_dict={X: train_X, y:train_Y})\n",
    "#         print (\"Epoch:\", \"%04d\"%(epoch+1), \"cost=\", \"{:.5f}\".format(costval))\n",
    "        plt.plot(epoch, costval, \"g\")\n",
    "        learning_paths = np.append(learning_paths, [[epoch, costval]], axis = 0)\n",
    "\n",
    "        Wtemp = sess.run(W)\n",
    "        btemp = sess.run(b)\n",
    "#         print (\" Wtemp is\", \"{:.4f}\".format(Wtemp), \"btemp is\", \"{:.4f}\".format(btemp))\n",
    "#         print (\" Wref is\", \"{:.4f}\".format(Wref), \"bref is\", \"{:.4f}\".format(bref))\n",
    "\n",
    "plt.plot(learning_paths[:, 0], learning_paths[:, 1], \"g\", label=\"cost by epoch\")\n",
    "# plt.axis('cost/epoch')\n",
    "plt.show()        "
   ]
  }
 ],
 "metadata": {
  "kernelspec": {
   "display_name": "Python 2",
   "language": "python",
   "name": "python2"
  },
  "language_info": {
   "codemirror_mode": {
    "name": "ipython",
    "version": 2
   },
   "file_extension": ".py",
   "mimetype": "text/x-python",
   "name": "python",
   "nbconvert_exporter": "python",
   "pygments_lexer": "ipython2",
   "version": "2.7.10"
  }
 },
 "nbformat": 4,
 "nbformat_minor": 2
}
