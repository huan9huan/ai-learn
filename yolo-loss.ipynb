{
 "cells": [
  {
   "cell_type": "code",
   "execution_count": 34,
   "metadata": {},
   "outputs": [
    {
     "name": "stderr",
     "output_type": "stream",
     "text": [
      "Using TensorFlow backend.\n"
     ]
    }
   ],
   "source": [
    "import numpy as np\n",
    "import keras.backend as K"
   ]
  },
  {
   "cell_type": "code",
   "execution_count": 24,
   "metadata": {},
   "outputs": [],
   "source": [
    "y0 = np.array([[1,0.5,0.5], [0,0,0], [0,0,0], [1, 0.2, 0.2]])\n",
    "y1 = np.zeros((4,3))\n",
    "y0_ = np.array([[0,0,0], [0,0,0], [0,0,0], [1, 0.3, 0.3]])\n",
    "y1_ = np.zeros((4,3))"
   ]
  },
  {
   "cell_type": "code",
   "execution_count": 86,
   "metadata": {},
   "outputs": [
    {
     "name": "stdout",
     "output_type": "stream",
     "text": [
      "('y:', array([[[[ 1. ,  0.5,  0.5],\n",
      "         [ 0. ,  0. ,  0. ]],\n",
      "\n",
      "        [[ 0. ,  0. ,  0. ],\n",
      "         [ 1. ,  0.2,  0.2]]],\n",
      "\n",
      "\n",
      "       [[[ 0. ,  0. ,  0. ],\n",
      "         [ 0. ,  0. ,  0. ]],\n",
      "\n",
      "        [[ 0. ,  0. ,  0. ],\n",
      "         [ 0. ,  0. ,  0. ]]]]))\n",
      "('y_', array([[[[ 0. ,  0. ,  0. ],\n",
      "         [ 0. ,  0. ,  0. ]],\n",
      "\n",
      "        [[ 0. ,  0. ,  0. ],\n",
      "         [ 1. ,  0.3,  0.3]]],\n",
      "\n",
      "\n",
      "       [[[ 0. ,  0. ,  0. ],\n",
      "         [ 0. ,  0. ,  0. ]],\n",
      "\n",
      "        [[ 0. ,  0. ,  0. ],\n",
      "         [ 0. ,  0. ,  0. ]]]]))\n"
     ]
    }
   ],
   "source": [
    "y = np.reshape([y0,y1],(2, 2, 2, 3))\n",
    "y_ = np.reshape([y0_,y1_], (2, 2, 2, 3))\n",
    "print(\"y:\", y)\n",
    "print(\"y_\", y_)"
   ]
  },
  {
   "cell_type": "code",
   "execution_count": 99,
   "metadata": {},
   "outputs": [
    {
     "name": "stdout",
     "output_type": "stream",
     "text": [
      "('should be', 0.26)\n"
     ]
    },
    {
     "data": {
      "text/plain": [
       "0.26000000000000001"
      ]
     },
     "execution_count": 99,
     "metadata": {},
     "output_type": "execute_result"
    }
   ],
   "source": [
    "# 测试location loss\n",
    "should_be = (0.5 **2 + 0.5 ** 2 + 0.1 ** 2 + 0.1 ** 2 ) / 2\n",
    "print(\"should be\", should_be)\n",
    "filters = y[...,0:1]\n",
    "np.mean(np.sum(np.sum(np.sum(np.square(y[..., 1:3] * filters - y_[..., 1:3] * filters), -1), -1),-1))"
   ]
  },
  {
   "cell_type": "code",
   "execution_count": 85,
   "metadata": {},
   "outputs": [
    {
     "name": "stdout",
     "output_type": "stream",
     "text": [
      "[[[[ 1.]\n",
      "   [ 0.]]\n",
      "\n",
      "  [[ 0.]\n",
      "   [ 0.]]]\n",
      "\n",
      "\n",
      " [[[ 0.]\n",
      "   [ 0.]]\n",
      "\n",
      "  [[ 0.]\n",
      "   [ 0.]]]]\n",
      "('square shape', (2, 2, 2, 1))\n",
      "sum as\n",
      "[[ 1.]\n",
      " [ 0.]]\n",
      "mean as\n",
      "0.5\n"
     ]
    }
   ],
   "source": [
    "# 测试object confidence的loss\n",
    "objects_matcher = y[..., 0:1]\n",
    "objects_confidences = y[..., 0:1]\n",
    "objects_confidences_ = y_[..., 0:1]\n",
    "sqr = np.square(objects_confidences - objects_confidences_)\n",
    "print(sqr)\n",
    "print(\"square shape\", sqr.shape)\n",
    "print(\"sum as\")\n",
    "sum = np.sum(np.sum(sqr, axis=1), axis=1)\n",
    "print(sum)\n",
    "\n",
    "print(\"mean as\")\n",
    "print(np.mean(sum))\n",
    "#       , axis=0))\n"
   ]
  },
  {
   "cell_type": "code",
   "execution_count": 49,
   "metadata": {},
   "outputs": [],
   "source": [
    "X = np.array([[0,0]])\n",
    "np.save(file, (X,y))"
   ]
  },
  {
   "cell_type": "code",
   "execution_count": 56,
   "metadata": {},
   "outputs": [
    {
     "data": {
      "text/plain": [
       "[array([1]), array([[[[ 1. ,  0.5,  0.5],\n",
       "          [ 0. ,  0. ,  0. ]],\n",
       " \n",
       "         [[ 0. ,  0. ,  0. ],\n",
       "          [ 1. ,  0.2,  0.2]]],\n",
       " \n",
       " \n",
       "        [[[ 0. ,  0. ,  0. ],\n",
       "          [ 0. ,  0. ,  0. ]],\n",
       " \n",
       "         [[ 0. ,  0. ,  0. ],\n",
       "          [ 0. ,  0. ,  0. ]]]])]"
      ]
     },
     "execution_count": 56,
     "metadata": {},
     "output_type": "execute_result"
    }
   ],
   "source": [
    "X = np.array([1])\n",
    "[X,y]"
   ]
  },
  {
   "cell_type": "code",
   "execution_count": 50,
   "metadata": {},
   "outputs": [],
   "source": [
    "file = \"./test.npy\"\n",
    "\n",
    "x_, _ = np.load(file)"
   ]
  },
  {
   "cell_type": "code",
   "execution_count": 52,
   "metadata": {},
   "outputs": [
    {
     "name": "stdout",
     "output_type": "stream",
     "text": [
      "(1, 2)\n",
      "(2, 2, 2, 3)\n"
     ]
    }
   ],
   "source": [
    "print(x_.shape)\n",
    "print(_.shape)"
   ]
  },
  {
   "cell_type": "code",
   "execution_count": 60,
   "metadata": {},
   "outputs": [
    {
     "data": {
      "text/plain": [
       "array([ 0.,  0.,  0.,  0.,  0.,  0.,  0.,  0.,  0.,  1.,  0.,  0.,  0.])"
      ]
     },
     "execution_count": 60,
     "metadata": {},
     "output_type": "execute_result"
    }
   ],
   "source": [
    "probs = np.zeros(10)\n",
    "probs[6] = 1\n",
    "line = np.zeros(13)\n",
    "line[3:] = probs\n",
    "line"
   ]
  },
  {
   "cell_type": "code",
   "execution_count": 62,
   "metadata": {},
   "outputs": [
    {
     "data": {
      "text/plain": [
       "-1"
      ]
     },
     "execution_count": 62,
     "metadata": {},
     "output_type": "execute_result"
    }
   ],
   "source": [
    "\"abc\".find('d')"
   ]
  },
  {
   "cell_type": "code",
   "execution_count": 83,
   "metadata": {},
   "outputs": [
    {
     "name": "stdout",
     "output_type": "stream",
     "text": [
      "[[[[ 0.5  0.5]\n",
      "   [ 0.   0. ]]\n",
      "\n",
      "  [[ 0.   0. ]\n",
      "   [ 0.2  0.2]]]\n",
      "\n",
      "\n",
      " [[[ 0.   0. ]\n",
      "   [ 0.   0. ]]\n",
      "\n",
      "  [[ 0.   0. ]\n",
      "   [ 0.   0. ]]]]\n",
      "[[[ 0.5  0.5]\n",
      "  [ 0.2  0.2]]\n",
      "\n",
      " [[ 0.   0. ]\n",
      "  [ 0.   0. ]]]\n",
      "[[ 0.7  0.7]\n",
      " [ 0.   0. ]]\n",
      "0.35\n"
     ]
    }
   ],
   "source": [
    "# 测试成绩\n",
    "print(y[...,1:3] * y[..., 0:1])\n",
    "s1 =np.sum(y[...,1:3] * y[..., 0:1], axis=1)\n",
    "print(s1)\n",
    "s2 = np.sum(s1, axis=1)\n",
    "print (s2)\n",
    "print(np.mean(s2))"
   ]
  }
 ],
 "metadata": {
  "kernelspec": {
   "display_name": "Python 2",
   "language": "python",
   "name": "python2"
  },
  "language_info": {
   "codemirror_mode": {
    "name": "ipython",
    "version": 2
   },
   "file_extension": ".py",
   "mimetype": "text/x-python",
   "name": "python",
   "nbconvert_exporter": "python",
   "pygments_lexer": "ipython2",
   "version": "2.7.10"
  }
 },
 "nbformat": 4,
 "nbformat_minor": 2
}
