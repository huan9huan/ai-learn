{
 "cells": [
  {
   "cell_type": "markdown",
   "metadata": {},
   "source": [
    "# generate the data set\n",
    "## y=x^2"
   ]
  },
  {
   "cell_type": "code",
   "execution_count": 66,
   "metadata": {},
   "outputs": [
    {
     "data": {
      "text/plain": [
       "<module 'model' from 'model.pyc'>"
      ]
     },
     "execution_count": 66,
     "metadata": {},
     "output_type": "execute_result"
    }
   ],
   "source": [
    "import numpy as np\n",
    "import model\n",
    "import matplotlib.pyplot as plt\n",
    "import data\n",
    "#import sample\n",
    "%matplotlib inline\n",
    "reload(data)\n",
    "reload(model)"
   ]
  },
  {
   "cell_type": "code",
   "execution_count": 64,
   "metadata": {},
   "outputs": [
    {
     "name": "stdout",
     "output_type": "stream",
     "text": [
      "X Shape (100, 1)\n",
      "0 [ 0.92275416] [ 0.93706116] [[ 0.92275416]]\n",
      "1 [ 0.87087859] [ 0.79723971] [[ 0.87087859]]\n",
      "2 [-0.69387074] [ 0.54881409] [[-0.69387074]]\n",
      "3 [-0.44251239] [ 0.20208939] [[-0.44251239]]\n",
      "4 [ 0.82071126] [ 0.6771916] [[ 0.82071126]]\n",
      "5 [-0.13384216] [ 0.09418366] [[-0.13384216]]\n",
      "6 [-0.60829688] [ 0.40470875] [[-0.60829688]]\n",
      "7 [ 0.40190333] [ 0.24086838] [[ 0.40190333]]\n",
      "8 [-0.90487819] [ 0.9120187] [[-0.90487819]]\n",
      "9 [-0.28148663] [ 0.10328744] [[-0.28148663]]\n",
      "10 [-0.14031183] [ 0.02963891] [[-0.14031183]]\n",
      "11 [-0.81834158] [ 0.75528663] [[-0.81834158]]\n",
      "12 [-0.87623777] [ 0.85148941] [[-0.87623777]]\n",
      "13 [ 0.29955429] [ 0.13813254] [[ 0.29955429]]\n",
      "14 [ 0.79983357] [ 0.70255573] [[ 0.79983357]]\n",
      "15 [ 0.56400584] [ 0.38823135] [[ 0.56400584]]\n",
      "16 [ 0.50668522] [ 0.30943275] [[ 0.50668522]]\n",
      "17 [ 0.21661907] [ 0.07119929] [[ 0.21661907]]\n",
      "18 [ 0.90987381] [ 0.91413961] [[ 0.90987381]]\n",
      "19 [ 0.80386061] [ 0.7170681] [[ 0.80386061]]\n",
      "20 [ 0.48829246] [ 0.26482408] [[ 0.48829246]]\n",
      "21 [ 0.48315068] [ 0.30336996] [[ 0.48315068]]\n",
      "22 [ 0.90259717] [ 0.9085598] [[ 0.90259717]]\n",
      "23 [-0.72335495] [ 0.55384457] [[-0.72335495]]\n",
      "24 [ 0.17110272] [ 0.10152748] [[ 0.17110272]]\n",
      "25 [-0.52474562] [ 0.28205216] [[-0.52474562]]\n",
      "26 [ 0.18975671] [ 0.10119367] [[ 0.18975671]]\n",
      "27 [-0.70434647] [ 0.52401594] [[-0.70434647]]\n",
      "28 [-0.91023201] [ 0.92621479] [[-0.91023201]]\n",
      "29 [ 0.83993432] [ 0.79257734] [[ 0.83993432]]\n",
      "30 [-0.99494787] [ 1.08781865] [[-0.99494787]]\n",
      "31 [-0.98167344] [ 1.02815388] [[-0.98167344]]\n",
      "32 [ 0.45142997] [ 0.27773773] [[ 0.45142997]]\n",
      "33 [-0.67232023] [ 0.53225484] [[-0.67232023]]\n",
      "34 [-0.02011849] [ 0.03871159] [[-0.02011849]]\n",
      "35 [ 0.68103576] [ 0.52016679] [[ 0.68103576]]\n",
      "36 [ 0.50991754] [ 0.28717755] [[ 0.50991754]]\n",
      "37 [-0.35574312] [ 0.21406612] [[-0.35574312]]\n",
      "38 [ 0.57661503] [ 0.41964041] [[ 0.57661503]]\n",
      "39 [ 0.32548874] [ 0.10810837] [[ 0.32548874]]\n",
      "40 [ 0.49151467] [ 0.29656201] [[ 0.49151467]]\n",
      "41 [ 0.28352589] [ 0.08899194] [[ 0.28352589]]\n",
      "42 [-0.28826216] [ 0.12306746] [[-0.28826216]]\n",
      "43 [ 0.73646082] [ 0.58941455] [[ 0.73646082]]\n",
      "44 [-0.71875236] [ 0.53213366] [[-0.71875236]]\n",
      "45 [ 0.04749415] [ 0.08299904] [[ 0.04749415]]\n",
      "46 [-0.54818272] [ 0.31608144] [[-0.54818272]]\n",
      "47 [-0.79351093] [ 0.70101097] [[-0.79351093]]\n",
      "48 [ 0.0116146] [ 0.02101246] [[ 0.0116146]]\n",
      "49 [ 0.33427711] [ 0.19235964] [[ 0.33427711]]\n",
      "50 [-0.10392238] [ 0.06894309] [[-0.10392238]]\n",
      "51 [-0.55664498] [ 0.31743307] [[-0.55664498]]\n",
      "52 [-0.52165743] [ 0.30905755] [[-0.52165743]]\n",
      "53 [ 0.41095499] [ 0.24723593] [[ 0.41095499]]\n",
      "54 [ 0.55116542] [ 0.38991738] [[ 0.55116542]]\n",
      "55 [-0.65764473] [ 0.51950053] [[-0.65764473]]\n",
      "56 [ 0.37414093] [ 0.14593985] [[ 0.37414093]]\n",
      "57 [ 0.86173042] [ 0.74936097] [[ 0.86173042]]\n",
      "58 [-0.13907367] [ 0.0714726] [[-0.13907367]]\n",
      "59 [-0.20204371] [ 0.06579946] [[-0.20204371]]\n",
      "60 [ 0.35684867] [ 0.19407461] [[ 0.35684867]]\n",
      "61 [ 0.30242856] [ 0.18410622] [[ 0.30242856]]\n",
      "62 [-0.88761677] [ 0.85228932] [[-0.88761677]]\n",
      "63 [ 0.36011015] [ 0.20190964] [[ 0.36011015]]\n",
      "64 [ 0.19553085] [ 0.07904875] [[ 0.19553085]]\n",
      "65 [-0.49561246] [ 0.2965634] [[-0.49561246]]\n",
      "66 [ 0.8694749] [ 0.78656206] [[ 0.8694749]]\n",
      "67 [ 0.57392316] [ 0.39135485] [[ 0.57392316]]\n",
      "68 [-0.76424774] [ 0.65323532] [[-0.76424774]]\n",
      "69 [-0.65402934] [ 0.49623587] [[-0.65402934]]\n",
      "70 [ 0.38762336] [ 0.21482635] [[ 0.38762336]]\n",
      "71 [ 0.17053741] [ 0.07315597] [[ 0.17053741]]\n",
      "72 [-0.18603618] [ 0.0907629] [[-0.18603618]]\n",
      "73 [-0.28486659] [ 0.12608324] [[-0.28486659]]\n",
      "74 [-0.00620437] [ 0.0146873] [[-0.00620437]]\n",
      "75 [-0.00767607] [ 0.03038028] [[-0.00767607]]\n",
      "76 [ 0.76032963] [ 0.63144403] [[ 0.76032963]]\n",
      "77 [ 0.54871835] [ 0.35991807] [[ 0.54871835]]\n",
      "78 [ 0.65400474] [ 0.47980434] [[ 0.65400474]]\n",
      "79 [-0.65683123] [ 0.45367078] [[-0.65683123]]\n",
      "80 [ 0.93245341] [ 0.92247853] [[ 0.93245341]]\n",
      "81 [-0.82844813] [ 0.71518412] [[-0.82844813]]\n",
      "82 [-0.3775391] [ 0.18249667] [[-0.3775391]]\n",
      "83 [-0.29386303] [ 0.13056367] [[-0.29386303]]\n",
      "84 [ 0.34949927] [ 0.12839559] [[ 0.34949927]]\n",
      "85 [ 0.70015725] [ 0.57749487] [[ 0.70015725]]\n",
      "86 [-0.24305317] [ 0.09627363] [[-0.24305317]]\n",
      "87 [-0.53145102] [ 0.30282491] [[-0.53145102]]\n",
      "88 [ 0.31771942] [ 0.12998992] [[ 0.31771942]]\n",
      "89 [-0.98772978] [ 0.97845854] [[-0.98772978]]\n",
      "90 [ 0.22775391] [ 0.10195461] [[ 0.22775391]]\n",
      "91 [-0.31074462] [ 0.1214119] [[-0.31074462]]\n",
      "92 [ 0.34452114] [ 0.203866] [[ 0.34452114]]\n",
      "93 [-0.09243675] [ 0.08152643] [[-0.09243675]]\n",
      "94 [-0.77811326] [ 0.61476699] [[-0.77811326]]\n",
      "95 [-0.08801919] [ 0.022504] [[-0.08801919]]\n",
      "96 [ 0.59847039] [ 0.44749773] [[ 0.59847039]]\n",
      "97 [-0.82275663] [ 0.77647551] [[-0.82275663]]\n",
      "98 [ 0.25292969] [ 0.07324716] [[ 0.25292969]]\n",
      "99 [ 0.73955965] [ 0.60971693] [[ 0.73955965]]\n"
     ]
    },
    {
     "data": {
      "image/png": "[encoded data removed]",
      "text/plain": [
       "<matplotlib.figure.Figure at 0x10baf3310>"
      ]
     },
     "metadata": {},
     "output_type": "display_data"
    }
   ],
   "source": [
    "# plot\n",
    "X, Y = data.sample(100)\n",
    "plt.plot(X, Y, 'o')\n",
    "print \"X Shape\", X.shape\n",
    "for i in range(len(X)):\n",
    "    print i,X[i],Y[i],np.reshape(X[i], (1,1))"
   ]
  }
 ],
 "metadata": {
  "kernelspec": {
   "display_name": "Python 2",
   "language": "python",
   "name": "python2"
  },
  "language_info": {
   "codemirror_mode": {
    "name": "ipython",
    "version": 2
   },
   "file_extension": ".py",
   "mimetype": "text/x-python",
   "name": "python",
   "nbconvert_exporter": "python",
   "pygments_lexer": "ipython2",
   "version": "2.7.10"
  }
 },
 "nbformat": 4,
 "nbformat_minor": 2
}
