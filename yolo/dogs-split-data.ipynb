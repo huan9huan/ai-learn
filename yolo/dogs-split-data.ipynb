{
 "cells": [
  {
   "cell_type": "markdown",
   "metadata": {},
   "source": [
    "# split data"
   ]
  },
  {
   "cell_type": "code",
   "execution_count": 1,
   "metadata": {},
   "outputs": [],
   "source": [
    "import os\n",
    "import shutil\n",
    "import numpy as np"
   ]
  },
  {
   "cell_type": "code",
   "execution_count": 4,
   "metadata": {},
   "outputs": [],
   "source": [
    "images_root = \"/Users/xuan/work/dataset/dogs-raw/images\"\n",
    "annotations_root = \"/Users/xuan/work/dataset/dogs-raw/annotations\"\n",
    "dest_images_root = \"/Users/xuan/work/dataset/dogs/images\"\n",
    "dest_annotations_root = \"/Users/xuan/work/dataset/dogs/annotations\""
   ]
  },
  {
   "cell_type": "code",
   "execution_count": 5,
   "metadata": {},
   "outputs": [],
   "source": [
    "def mkdirp(dir):\n",
    "  try:\n",
    "    os.mkdir(dir)\n",
    "  except:\n",
    "    pass"
   ]
  },
  {
   "cell_type": "code",
   "execution_count": 6,
   "metadata": {},
   "outputs": [],
   "source": [
    "EXT = \".JPEG\"\n",
    "\n",
    "def split(annotations_root, images_root, dest_images_root, dest_annotations_root):\n",
    "  images_train_dest = dest_images_root + \"/train\"\n",
    "  images_val_dest = dest_images_root + \"/val\"\n",
    "  mkdirp(images_train_dest)\n",
    "  mkdirp(images_val_dest)\n",
    "\n",
    "  annotations_train_dest = dest_annotations_root + \"/train\"\n",
    "  annotations_val_dest = dest_annotations_root +  \"/val\"\n",
    "  mkdirp(annotations_train_dest)\n",
    "  mkdirp(annotations_val_dest)\n",
    "  \n",
    "  for clz in os.listdir(annotations_root):\n",
    "      src_annotations_dir = annotations_root + \"/\" + clz\n",
    "      src_images_dir = images_root + \"/\" + clz\n",
    "      \n",
    "      img_train_dir = images_train_dest + \"/\" + clz\n",
    "      anno_train_dir = annotations_train_dest + \"/\" + clz\n",
    "      \n",
    "      img_val_dir = images_val_dest + \"/\" + clz\n",
    "      anno_val_dir = annotations_val_dest + \"/\" + clz\n",
    "      \n",
    "      mkdirp(img_train_dir)\n",
    "      mkdirp(anno_train_dir)\n",
    "      mkdirp(img_val_dir)\n",
    "      mkdirp(anno_val_dir)\n",
    "\n",
    "      ids = os.listdir(src_annotations_dir)\n",
    "\n",
    "      for f in ids:\n",
    "          if np.random.rand(1) < 0.2:\n",
    "              shutil.copy(src_annotations_dir + '/'+ f, anno_val_dir + '/'+ f)\n",
    "              shutil.copy(src_images_dir + '/'+ f + EXT, img_val_dir + '/'+ f + EXT)\n",
    "          else:\n",
    "              shutil.copy(src_annotations_dir + '/'+ f, anno_train_dir + '/'+ f)\n",
    "              shutil.copy(src_images_dir + '/'+ f + EXT, img_train_dir + '/'+ f + EXT)\n",
    "              \n",
    "      print \"class \", clz, \" images and annotations preppared done\""
   ]
  },
  {
   "cell_type": "code",
   "execution_count": null,
   "metadata": {},
   "outputs": [],
   "source": [
    "# clean data\n",
    "!rm -fr './dogs'\n",
    "!echo \"clean dogs dir done\"\n",
    "mkdirp('./dogs')\n",
    "mkdirp(dest_images_root)\n",
    "mkdirp(dest_annotations_root)\n",
    "split(annotations_root, images_root, dest_images_root, dest_annotations_root)\n",
    "!echo \"split done\""
   ]
  }
 ],
 "metadata": {
  "kernelspec": {
   "display_name": "Python 2",
   "language": "python",
   "name": "python2"
  },
  "language_info": {
   "codemirror_mode": {
    "name": "ipython",
    "version": 2
   },
   "file_extension": ".py",
   "mimetype": "text/x-python",
   "name": "python",
   "nbconvert_exporter": "python",
   "pygments_lexer": "ipython2",
   "version": "2.7.10"
  }
 },
 "nbformat": 4,
 "nbformat_minor": 2
}
