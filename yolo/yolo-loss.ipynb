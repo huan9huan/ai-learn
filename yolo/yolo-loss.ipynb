{
 "cells": [
  {
   "cell_type": "markdown",
   "metadata": {},
   "source": [
    "# yolo loss"
   ]
  },
  {
   "cell_type": "code",
   "execution_count": 2,
   "metadata": {},
   "outputs": [
    {
     "name": "stderr",
     "output_type": "stream",
     "text": [
      "Using TensorFlow backend.\n"
     ]
    }
   ],
   "source": [
    "import keras\n",
    "from keras.preprocessing import image\n",
    "import numpy as np\n",
    "import os\n",
    "from keras.preprocessing import image\n",
    "from keras.preprocessing.image import ImageDataGenerator\n",
    "import matplotlib.pyplot as plt\n",
    "from scipy.misc import imread, imresize\n",
    "%matplotlib inline \n",
    "import matplotlib.patches as patches\n",
    "import xml.etree.ElementTree as ET"
   ]
  },
  {
   "cell_type": "code",
   "execution_count": 3,
   "metadata": {},
   "outputs": [],
   "source": [
    "y = np.array([[0,0,0,0,0, 1, 0.2, 0.3, 0.05, 0.6]])"
   ]
  },
  {
   "cell_type": "code",
   "execution_count": 2,
   "metadata": {},
   "outputs": [],
   "source": [
    "y_ = np.array([[0.123,0.01,0.2,0.05,0.05, 0.8, 0.3, 0.2, 0.5, 0.3]])"
   ]
  },
  {
   "cell_type": "code",
   "execution_count": 11,
   "metadata": {},
   "outputs": [
    {
     "data": {
      "text/plain": [
       "<tf.Tensor 'Mean:0' shape=(1,) dtype=float64>"
      ]
     },
     "execution_count": 11,
     "metadata": {},
     "output_type": "execute_result"
    }
   ],
   "source": [
    "keras.losses.mean_squared_error(y, y_)"
   ]
  },
  {
   "cell_type": "code",
   "execution_count": 45,
   "metadata": {},
   "outputs": [
    {
     "name": "stdout",
     "output_type": "stream",
     "text": [
      "[ True False]\n",
      "select by matcher [[1 2]]\n"
     ]
    }
   ],
   "source": [
    "a = np.array([[1, 2], [0,0]])\n",
    "matcher = a[...,0] == 1\n",
    "print matcher\n",
    "print \"select by matcher\", a[matcher]"
   ]
  },
  {
   "cell_type": "code",
   "execution_count": 47,
   "metadata": {},
   "outputs": [
    {
     "name": "stdout",
     "output_type": "stream",
     "text": [
      "output shape (1, 10)\n",
      "y reshaped into [[ 0.   0.   0.   0.   0. ]\n",
      " [ 1.   0.1  0.2  0.3  0.4]]\n",
      "y_ reshaped into [[ 0.5  0.   0.   0.   0. ]\n",
      " [ 1.   0.4  0.3  0.2  0.1]]\n",
      "objects_matcher [False  True]\n",
      "object boxes [[ 0.1  0.2  0.3  0.4]]\n",
      "object boxes_ [[ 0.4  0.3  0.2  0.1]]\n",
      "object loss 0.2\n",
      "cacl the confidence values\n",
      "confiences [ 0.  1.]\n",
      "confiences_ [ 0.5  1. ]\n",
      "\n",
      "object confidence [ 0.  1.]\n",
      "object confidence_ [ 1.]\n",
      "loss for object confience 1.0\n",
      "\n",
      "non object confidence_ [ 0.5]\n",
      "loss for non object confience 0.25\n"
     ]
    }
   ],
   "source": [
    "# calc the loss \n",
    "y = np.array([[0,0,0,0,0, 1,0.1,0.2,0.3,0.4]])\n",
    "y_ = np.array([[0.5,0,0,0,0, 1,0.4,0.3,0.2,0.1]])\n",
    "output_shape = y.shape\n",
    "print \"output shape\", output_shape\n",
    "\n",
    "# reshape to split into boxes\n",
    "y_ = y_.reshape([-1, 5])\n",
    "y = y.reshape([-1, 5])\n",
    "\n",
    "print \"y reshaped into\", y\n",
    "print \"y_ reshaped into\", y_\n",
    "\n",
    "objects_matcher = y[..., 0] == 1.0\n",
    "print \"objects_matcher\", objects_matcher\n",
    "objects_boxes = y[objects_matcher][..., 1:5]\n",
    "objects_boxes_ = y_[objects_matcher][..., 1:5]\n",
    "print \"object boxes\", objects_boxes\n",
    "print \"object boxes_\", objects_boxes_\n",
    "boxes_loss = np.sum(np.square(objects_boxes - objects_boxes_))\n",
    "print \"object loss\", boxes_loss\n",
    "\n",
    "boxes = np.concatenate((y[..., 0:5]), axis=-1)\n",
    "boxes_ = np.concatenate((y_[..., 0:5]), axis=-1)\n",
    "# print \"object boxes data\", boxes[objects == 1.]\n",
    "# print \"object boxes_ data\", boxes_[objects == 1.]\n",
    "\n",
    "print \"cacl the confidence values\"\n",
    "confidences = y[..., 0]\n",
    "confidences_ = y_[..., 0]\n",
    "print \"confiences\", confidences\n",
    "print \"confiences_\", confidences_\n",
    "\n",
    "print \"\"\n",
    "objects_confidences = confidences\n",
    "objects_confidences_ = confidences_[confidences == 1.0]\n",
    "print \"object confidence\", objects_confidences\n",
    "print \"object confidence_\", objects_confidences_\n",
    "object_confidence_loss = np.sum(np.square(objects_confidences - objects_confidences_))\n",
    "print \"loss for object confience\", object_confidence_loss\n",
    "\n",
    "print \"\"\n",
    "non_objects_confidences_ = confidences_[confidences == .0]\n",
    "print \"non object confidence_\", non_objects_confidences_\n",
    "non_object_confidence_loss = np.sum(np.square(non_objects_confidences_))\n",
    "print \"loss for non object confience\", non_object_confidence_loss\n",
    "\n"
   ]
  },
  {
   "cell_type": "code",
   "execution_count": 97,
   "metadata": {},
   "outputs": [],
   "source": [
    "import numpy as K\n",
    "\n",
    "def yolo_loss(y_, y, confidence_loss_weight = 1.0, location_loss_weight = 1.0, noobj_loss_weight = 1.0, grid = (5,5), print_fn = None):\n",
    "  # reshape to split into boxes\n",
    "  y_ = K.reshape(y_, [-1, grid[0] * grid[1], 5])\n",
    "  y = K.reshape(y, [-1,  grid[0] * grid[1], 5])\n",
    "\n",
    "  objects_matcher = y[..., 0:1]\n",
    "  objects_boxes = y[..., 1:5] * objects_matcher\n",
    "  objects_boxes_ = y_[..., 1:5] * objects_matcher\n",
    "  boxes_loss = K.mean(K.square(objects_boxes - objects_boxes_), axis=-1) * location_loss_weight\n",
    "\n",
    "  objects_confidences = y[..., 0:1]\n",
    "  objects_confidences_ = y_[..., 0:1] * objects_confidences\n",
    "  object_confidence_loss = K.mean(K.square(objects_confidences - objects_confidences_), axis=-1) * confidence_loss_weight\n",
    "\n",
    "  non_objects_confidences_ = y_[..., 0:1] * (1.0 - y[..., 0:1])\n",
    "  non_object_confidence_loss = K.mean(K.square(non_objects_confidences_), axis=-1) * noobj_loss_weight\n",
    "  \n",
    "  total_loss = boxes_loss  + object_confidence_loss  + non_object_confidence_loss \n",
    "\n",
    "  if print_fn:\n",
    "        print_fn(\"total loss {}, box loss {} confidence loss {} non object confidence loss {}\".format(total_loss, boxes_loss, object_confidence_loss, non_object_confidence_loss))\n",
    "  return K.sum(total_loss)"
   ]
  },
  {
   "cell_type": "code",
   "execution_count": 98,
   "metadata": {},
   "outputs": [
    {
     "name": "stdout",
     "output_type": "stream",
     "text": [
      "total loss [[ 0.25]\n",
      " [ 0.05]], box loss [[ 0.  ]\n",
      " [ 0.05]] confidence loss [[ 0.]\n",
      " [ 0.]] non object confidence loss [[ 0.25]\n",
      " [ 0.  ]]\n",
      "0.3\n"
     ]
    }
   ],
   "source": [
    "y = np.array([[0,0,0,0,0,1,0.1,0.2,0.3,0.4]])\n",
    "y_ = np.array([[0.5,0,0,0,0, 1,0.4,0.3,0.2,0.1]])\n",
    "def p(str):\n",
    "    print str\n",
    "print yolo_loss(y_, y, grid = (1,1), print_fn = p)"
   ]
  }
 ],
 "metadata": {
  "kernelspec": {
   "display_name": "Python 2",
   "language": "python",
   "name": "python2"
  },
  "language_info": {
   "codemirror_mode": {
    "name": "ipython",
    "version": 2
   },
   "file_extension": ".py",
   "mimetype": "text/x-python",
   "name": "python",
   "nbconvert_exporter": "python",
   "pygments_lexer": "ipython2",
   "version": "2.7.10"
  }
 },
 "nbformat": 4,
 "nbformat_minor": 2
}
