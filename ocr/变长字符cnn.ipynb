{
 "cells": [
  {
   "cell_type": "markdown",
   "metadata": {
    "colab_type": "text",
    "id": "bY_yr1oPyAjL"
   },
   "source": [
    "\n",
    "# 练习使用占位符训练变长字符串\n",
    "\n"
   ]
  },
  {
   "cell_type": "markdown",
   "metadata": {
    "colab_type": "text",
    "id": "SKEkLrfuAxXF"
   },
   "source": [
    "## report 1: max len = 5, perfect"
   ]
  },
  {
   "cell_type": "markdown",
   "metadata": {
    "colab_type": "text",
    "id": "OWQnA948LJ76"
   },
   "source": [
    "## report 2: max len = 10, 前后空格的数据集，size是64x640,\n",
    "一个epoch后，accu : 1.0"
   ]
  },
  {
   "cell_type": "code",
   "execution_count": 1,
   "metadata": {
    "colab": {
     "autoexec": {
      "startup": false,
      "wait_interval": 0
     },
     "base_uri": "https://localhost:8080/",
     "height": 819
    },
    "colab_type": "code",
    "executionInfo": {
     "elapsed": 14121,
     "status": "ok",
     "timestamp": 1532527967734,
     "user": {
      "displayName": "Huang Huan",
      "photoUrl": "//lh3.googleusercontent.com/-i1yYHd0-X3I/AAAAAAAAAAI/AAAAAAAAC-o/Z59jk8U4EQ4/s50-c-k-no/photo.jpg",
      "userId": "111113826829071176999"
     },
     "user_tz": -480
    },
    "id": "vI1IPl93xtSs",
    "outputId": "e079660c-460f-40ab-d53c-9c1f2f9367b2"
   },
   "outputs": [
    {
     "name": "stdout",
     "output_type": "stream",
     "text": [
      "--2018-07-25 14:12:35--  https://storage.cloud.google.com/simple-ocr/fonts/cnfonts.zip\n",
      "Resolving storage.cloud.google.com (storage.cloud.google.com)... 64.233.167.101, 64.233.167.139, 64.233.167.113, ...\n",
      "Connecting to storage.cloud.google.com (storage.cloud.google.com)|64.233.167.101|:443... connected.\n",
      "HTTP request sent, awaiting response... 302 Found\n",
      "Location: https://accounts.google.com/ServiceLogin?service=cds&passive=1209600&continue=https://storage.cloud.google.com/simple-ocr/fonts/cnfonts.zip&followup=https://storage.cloud.google.com/simple-ocr/fonts/cnfonts.zip [following]\n",
      "--2018-07-25 14:12:35--  https://accounts.google.com/ServiceLogin?service=cds&passive=1209600&continue=https://storage.cloud.google.com/simple-ocr/fonts/cnfonts.zip&followup=https://storage.cloud.google.com/simple-ocr/fonts/cnfonts.zip\n",
      "Resolving accounts.google.com (accounts.google.com)... 74.125.206.84, 2a00:1450:400c:c04::54\n",
      "Connecting to accounts.google.com (accounts.google.com)|74.125.206.84|:443... connected.\n",
      "HTTP request sent, awaiting response... 200 OK\n",
      "Length: unspecified [text/html]\n",
      "Saving to: ‘cnfonts.zip’\n",
      "\n",
      "cnfonts.zip             [ <=>                ]  55.31K  --.-KB/s    in 0.002s  \n",
      "\n",
      "2018-07-25 14:12:35 (28.2 MB/s) - ‘cnfonts.zip’ saved [56636]\n",
      "\n",
      "total 64\n",
      "-rw-r--r-- 1 root root 56636 Jul 25 14:12 cnfonts.zip\n",
      "drwxr-xr-x 3 root root  4096 Jul 23 17:26 datalab\n",
      "--2018-07-25 14:12:38--  https://slackext.com/fonts/cnfonts.zip\n",
      "Resolving slackext.com (slackext.com)... 138.68.29.180\n",
      "Connecting to slackext.com (slackext.com)|138.68.29.180|:443... connected.\n",
      "HTTP request sent, awaiting response... 200 OK\n",
      "Length: 86816084 (83M) [application/zip]\n",
      "Saving to: ‘cnfonts.zip’\n",
      "\n",
      "cnfonts.zip         100%[===================>]  82.79M  18.2MB/s    in 5.5s    \n",
      "\n",
      "2018-07-25 14:12:44 (14.9 MB/s) - ‘cnfonts.zip’ saved [86816084/86816084]\n",
      "\n",
      "Archive:  cnfonts.zip\n",
      "   creating: fonts/\n",
      "  inflating: fonts/NotoSansHans-Medium.otf  \n",
      "  inflating: fonts/NotoSansHans-Light.otf  \n",
      "  inflating: fonts/fangzheng_shusong.ttf  \n",
      "  inflating: fonts/NotoSansHans-Regular.otf  \n",
      "  inflating: fonts/fangzheng_jieti.TTF  \n",
      "  inflating: fonts/NotoSansHans-Thin-Windows.otf  \n",
      "  inflating: fonts/mingliu.ttc       \n",
      "  inflating: fonts/NotoSansHans-Bold.otf  \n",
      "  inflating: fonts/DroidSansFallbackFull.ttf  \n",
      "  inflating: fonts/NotoSansHans-DemiLight.otf  \n",
      "  inflating: fonts/fangzheng_heiti.TTF  \n",
      "  inflating: fonts/fangzheng_fangsong.ttf  \n",
      "  inflating: fonts/NotoSansHans-Black.otf  \n",
      "  inflating: fonts/msyh.ttf          \n"
     ]
    }
   ],
   "source": [
    "#prepare the data\n",
    "# !wget https://storage.cloud.google.com/simple-ocr/fonts/cnfonts.zip\n",
    "!ls -l\n",
    "!rm cnfonts.zip\n",
    "!wget https://slackext.com/fonts/cnfonts.zip\n",
    "!unzip cnfonts.zip \n",
    "!pip install tqdm"
   ]
  },
  {
   "cell_type": "code",
   "execution_count": 0,
   "metadata": {
    "colab": {
     "autoexec": {
      "startup": false,
      "wait_interval": 0
     }
    },
    "colab_type": "code",
    "id": "dMnNWbMTyIn4"
   },
   "outputs": [],
   "source": [
    "import numpy as np\n",
    "import cv2\n",
    "import pickle\n",
    "import random\n",
    "from PIL import Image\n",
    "from PIL import ImageFont\n",
    "from PIL import ImageDraw\n",
    "import os\n",
    "import cv2\n",
    "import json\n",
    "import random\n",
    "import numpy as np\n",
    "import shutil\n",
    "import traceback\n",
    "import copy\n",
    "import errno\n",
    "import sys\n",
    "import matplotlib.pyplot as plt\n",
    "import time\n",
    "%matplotlib inline\n",
    "\n",
    "from keras.models import *\n",
    "from keras.layers import *\n",
    "from keras.optimizers import *"
   ]
  },
  {
   "cell_type": "code",
   "execution_count": 0,
   "metadata": {
    "colab": {
     "autoexec": {
      "startup": false,
      "wait_interval": 0
     }
    },
    "colab_type": "code",
    "id": "8yrqZ6y-yN1N"
   },
   "outputs": [],
   "source": [
    "# 产生变长格式的数据\n",
    "def gen(characters, batch_size=32, height = 20, n_max_len = 7, w_h = 1.0):\n",
    "    n_class = len(characters)\n",
    "    text_height = height\n",
    "    width = int(n_max_len * height * w_h)\n",
    "    fonts = [ImageFont.truetype(\"./fonts/\" + name, text_height) for name in os.listdir(\"./fonts\")]\n",
    "    X = np.zeros((batch_size, height, width), dtype=np.uint8)\n",
    "    y = [np.zeros((batch_size, n_class+1), dtype=np.uint8) for i in range(n_max_len)]\n",
    "    while True:\n",
    "        for i in range(batch_size):\n",
    "            n_len = np.random.randint(n_max_len) + 1\n",
    "            text = ''.join([random.choice(characters) for j in range(n_len)])\n",
    "            blank_len = n_max_len - len(text)\n",
    "            head = np.random.randint(blank_len) if blank_len > 0 else 0\n",
    "            tail = blank_len - head if blank_len > 0 else 0\n",
    "            \n",
    "            font = fonts[np.random.randint(len(fonts))]\n",
    "            img = Image.new(\"RGB\", (width, height), \"black\")\n",
    "            draw = ImageDraw.Draw(img)\n",
    "            draw.text((height * head, 0), text, (255, 255, 255), font=font)\n",
    "            X[i] = np.array(img.convert('L'))\n",
    "\n",
    "            for j in range(head):\n",
    "              y[j][i, :] = 0\n",
    "              y[j][i, n_class] = 1\n",
    "              \n",
    "            for j, ch in enumerate(text):\n",
    "              y[head + j][i, :] = 0\n",
    "              y[head + j][i, characters.find(ch)] = 1\n",
    "            for j in range(tail):\n",
    "              y[len(text) + j + head][i, :] = 0\n",
    "              y[len(text) + j + head][i, n_class] = 1\n",
    "            \n",
    "        yield [X, y]\n",
    "        \n",
    "def decode(characters, y):\n",
    "    all = characters + \" \"\n",
    "    y = np.argmax(np.array(y), axis=2)[:,0]\n",
    "    return ''.join([all[x] for x in y])"
   ]
  },
  {
   "cell_type": "code",
   "execution_count": 1,
   "metadata": {
    "colab": {
     "autoexec": {
      "startup": false,
      "wait_interval": 0
     },
     "base_uri": "https://localhost:8080/",
     "height": 236
    },
    "colab_type": "code",
    "executionInfo": {
     "elapsed": 1511,
     "status": "error",
     "timestamp": 1532571775764,
     "user": {
      "displayName": "Huang Huan",
      "photoUrl": "//lh3.googleusercontent.com/-i1yYHd0-X3I/AAAAAAAAAAI/AAAAAAAAC-o/Z59jk8U4EQ4/s50-c-k-no/photo.jpg",
      "userId": "111113826829071176999"
     },
     "user_tz": -480
    },
    "id": "H2aLTH6cyWpt",
    "outputId": "9b5d7f39-ce1d-4162-b90f-e3a77aba582c"
   },
   "outputs": [
    {
     "ename": "NameError",
     "evalue": "ignored",
     "output_type": "error",
     "traceback": [
      "\u001b[0;31m\u001b[0m",
      "\u001b[0;31mNameError\u001b[0mTraceback (most recent call last)",
      "\u001b[0;32m<ipython-input-1-5890d0c19d01>\u001b[0m in \u001b[0;36m<module>\u001b[0;34m()\u001b[0m\n\u001b[0;32m----> 1\u001b[0;31m \u001b[0m_\u001b[0m\u001b[0;34m,\u001b[0m\u001b[0maxs\u001b[0m \u001b[0;34m=\u001b[0m \u001b[0mplt\u001b[0m\u001b[0;34m.\u001b[0m\u001b[0msubplots\u001b[0m\u001b[0;34m(\u001b[0m\u001b[0;36m3\u001b[0m\u001b[0;34m,\u001b[0m\u001b[0;36m1\u001b[0m\u001b[0;34m,\u001b[0m\u001b[0mgrid_kw\u001b[0m\u001b[0;34m=\u001b[0m\u001b[0;34m(\u001b[0m\u001b[0;36m10\u001b[0m\u001b[0;34m,\u001b[0m\u001b[0;36m10\u001b[0m\u001b[0;34m)\u001b[0m\u001b[0;34m)\u001b[0m\u001b[0;34m\u001b[0m\u001b[0m\n\u001b[0m\u001b[1;32m      2\u001b[0m \u001b[0;34m\u001b[0m\u001b[0m\n\u001b[1;32m      3\u001b[0m \u001b[0mX\u001b[0m\u001b[0;34m,\u001b[0m\u001b[0my\u001b[0m \u001b[0;34m=\u001b[0m \u001b[0mnext\u001b[0m\u001b[0;34m(\u001b[0m\u001b[0mgen\u001b[0m\u001b[0;34m(\u001b[0m\u001b[0;34m\"ABCD\"\u001b[0m\u001b[0;34m,\u001b[0m \u001b[0mbatch_size\u001b[0m \u001b[0;34m=\u001b[0m \u001b[0;36m1\u001b[0m\u001b[0;34m,\u001b[0m \u001b[0mheight\u001b[0m \u001b[0;34m=\u001b[0m \u001b[0;36m100\u001b[0m\u001b[0;34m)\u001b[0m\u001b[0;34m)\u001b[0m\u001b[0;34m\u001b[0m\u001b[0m\n\u001b[1;32m      4\u001b[0m \u001b[0;32mprint\u001b[0m \u001b[0;34m(\u001b[0m\u001b[0;34m\"X,y[0],y[6] shape\"\u001b[0m\u001b[0;34m,\u001b[0m \u001b[0mX\u001b[0m\u001b[0;34m.\u001b[0m\u001b[0mshape\u001b[0m\u001b[0;34m,\u001b[0m \u001b[0my\u001b[0m\u001b[0;34m[\u001b[0m\u001b[0;36m0\u001b[0m\u001b[0;34m]\u001b[0m\u001b[0;34m.\u001b[0m\u001b[0mshape\u001b[0m\u001b[0;34m,\u001b[0m \u001b[0my\u001b[0m\u001b[0;34m[\u001b[0m\u001b[0;36m6\u001b[0m\u001b[0;34m]\u001b[0m\u001b[0;34m.\u001b[0m\u001b[0mshape\u001b[0m\u001b[0;34m)\u001b[0m\u001b[0;34m\u001b[0m\u001b[0m\n\u001b[1;32m      5\u001b[0m \u001b[0;32mprint\u001b[0m \u001b[0;34m\"y0\"\u001b[0m\u001b[0;34m,\u001b[0m \u001b[0my\u001b[0m\u001b[0;34m[\u001b[0m\u001b[0;36m0\u001b[0m\u001b[0;34m]\u001b[0m\u001b[0;34m\u001b[0m\u001b[0m\n",
      "\u001b[0;31mNameError\u001b[0m: name 'plt' is not defined"
     ]
    }
   ],
   "source": [
    "# test the generator  \n",
    "_,axs = plt.subplots(3,1)\n",
    "\n",
    "X,y = next(gen(\"ABCD\", batch_size = 1, height = 100))\n",
    "print (\"X,y[0],y[6] shape\", X.shape, y[0].shape, y[6].shape)\n",
    "print \"y0\", y[0]\n",
    "print \"y6\", y[6]\n",
    "print(\"X shape\", X.shape)\n",
    "axs[0].imshow(X[0])\n",
    "\n",
    "X,y = next(gen(\"abcd\", batch_size = 1, height = 100))\n",
    "print(decode(\"abcd\", y))\n",
    "axs[1].imshow(X[0])\n",
    "\n",
    "test_characters = u\"你好再见\"\n",
    "X,y = next(gen(test_characters, n_max_len = 10, batch_size = 1, w_h = 1.0, height = 100))\n",
    "axs[2].imshow(X[0])\n",
    "print(X[0].shape)\n",
    "\n",
    "all = test_characters + u\" \"\n",
    "print(all[4])\n",
    "print(\"test decode...\")\n",
    "print(decode(test_characters, y))"
   ]
  },
  {
   "cell_type": "code",
   "execution_count": 0,
   "metadata": {
    "colab": {
     "autoexec": {
      "startup": false,
      "wait_interval": 0
     }
    },
    "colab_type": "code",
    "id": "qoiBAraY3aqu"
   },
   "outputs": [],
   "source": [
    "def build_model(width, height, n_max_len, n_class):\n",
    "  input_tensor = Input((height, width))\n",
    "  x = input_tensor\n",
    "  x = Reshape(target_shape=(height, width, 1))(x)\n",
    "  for i in range(4):\n",
    "      x = Convolution2D(32*2**i, (3, 3), activation='relu', padding=\"same\")(x)\n",
    "      x = Convolution2D(32*2**i, (3, 3), activation='relu', padding=\"same\")(x)\n",
    "      x = MaxPooling2D((2, 2))(x)\n",
    "\n",
    "  x = Flatten()(x)\n",
    "  x = Dropout(0.25)(x)\n",
    "  x = [Dense(n_class, activation='softmax', name='c%d'%(i+1))(x) for i in range(n_max_len)]\n",
    "  model = Model(input=input_tensor, output=x)\n",
    "\n",
    "  model.compile(loss='categorical_crossentropy',\n",
    "                optimizer='adadelta',\n",
    "                metrics=['accuracy'])\n",
    "  return model"
   ]
  },
  {
   "cell_type": "code",
   "execution_count": 0,
   "metadata": {
    "colab": {
     "autoexec": {
      "startup": false,
      "wait_interval": 0
     }
    },
    "colab_type": "code",
    "id": "R8jiCf-53zRW"
   },
   "outputs": [],
   "source": [
    "# 系统的全局变量\n",
    "height = 64 #图片的高度\n",
    "n_max_len = 10 #一次识别中字符的个数\n",
    "width = height * n_max_len # 图片的宽度\n",
    "characters=u\"一二三四五六七八九零\" # 图片结果集"
   ]
  },
  {
   "cell_type": "code",
   "execution_count": 132,
   "metadata": {
    "colab": {
     "autoexec": {
      "startup": false,
      "wait_interval": 0
     },
     "base_uri": "https://localhost:8080/",
     "height": 1074
    },
    "colab_type": "code",
    "executionInfo": {
     "elapsed": 2932,
     "status": "ok",
     "timestamp": 1532533909588,
     "user": {
      "displayName": "Huang Huan",
      "photoUrl": "//lh3.googleusercontent.com/-i1yYHd0-X3I/AAAAAAAAAAI/AAAAAAAAC-o/Z59jk8U4EQ4/s50-c-k-no/photo.jpg",
      "userId": "111113826829071176999"
     },
     "user_tz": -480
    },
    "id": "szR6Bv6a3574",
    "outputId": "304480f7-4329-4946-b4f8-9373ae1ae867"
   },
   "outputs": [
    {
     "name": "stderr",
     "output_type": "stream",
     "text": [
      "/usr/local/lib/python2.7/dist-packages/ipykernel_launcher.py:13: UserWarning: Update your `Model` call to the Keras 2 API: `Model(outputs=[<tf.Tenso..., inputs=Tensor(\"in...)`\n",
      "  del sys.path[0]\n"
     ]
    },
    {
     "name": "stdout",
     "output_type": "stream",
     "text": [
      "__________________________________________________________________________________________________\n",
      "Layer (type)                    Output Shape         Param #     Connected to                     \n",
      "==================================================================================================\n",
      "input_11 (InputLayer)           (None, 64, 640)      0                                            \n",
      "__________________________________________________________________________________________________\n",
      "reshape_11 (Reshape)            (None, 64, 640, 1)   0           input_11[0][0]                   \n",
      "__________________________________________________________________________________________________\n",
      "conv2d_77 (Conv2D)              (None, 64, 640, 32)  320         reshape_11[0][0]                 \n",
      "__________________________________________________________________________________________________\n",
      "conv2d_78 (Conv2D)              (None, 64, 640, 32)  9248        conv2d_77[0][0]                  \n",
      "__________________________________________________________________________________________________\n",
      "max_pooling2d_39 (MaxPooling2D) (None, 32, 320, 32)  0           conv2d_78[0][0]                  \n",
      "__________________________________________________________________________________________________\n",
      "conv2d_79 (Conv2D)              (None, 32, 320, 64)  18496       max_pooling2d_39[0][0]           \n",
      "__________________________________________________________________________________________________\n",
      "conv2d_80 (Conv2D)              (None, 32, 320, 64)  36928       conv2d_79[0][0]                  \n",
      "__________________________________________________________________________________________________\n",
      "max_pooling2d_40 (MaxPooling2D) (None, 16, 160, 64)  0           conv2d_80[0][0]                  \n",
      "__________________________________________________________________________________________________\n",
      "conv2d_81 (Conv2D)              (None, 16, 160, 128) 73856       max_pooling2d_40[0][0]           \n",
      "__________________________________________________________________________________________________\n",
      "conv2d_82 (Conv2D)              (None, 16, 160, 128) 147584      conv2d_81[0][0]                  \n",
      "__________________________________________________________________________________________________\n",
      "max_pooling2d_41 (MaxPooling2D) (None, 8, 80, 128)   0           conv2d_82[0][0]                  \n",
      "__________________________________________________________________________________________________\n",
      "conv2d_83 (Conv2D)              (None, 8, 80, 256)   295168      max_pooling2d_41[0][0]           \n",
      "__________________________________________________________________________________________________\n",
      "conv2d_84 (Conv2D)              (None, 8, 80, 256)   590080      conv2d_83[0][0]                  \n",
      "__________________________________________________________________________________________________\n",
      "max_pooling2d_42 (MaxPooling2D) (None, 4, 40, 256)   0           conv2d_84[0][0]                  \n",
      "__________________________________________________________________________________________________\n",
      "flatten_11 (Flatten)            (None, 40960)        0           max_pooling2d_42[0][0]           \n",
      "__________________________________________________________________________________________________\n",
      "dropout_11 (Dropout)            (None, 40960)        0           flatten_11[0][0]                 \n",
      "__________________________________________________________________________________________________\n",
      "c1 (Dense)                      (None, 11)           450571      dropout_11[0][0]                 \n",
      "__________________________________________________________________________________________________\n",
      "c2 (Dense)                      (None, 11)           450571      dropout_11[0][0]                 \n",
      "__________________________________________________________________________________________________\n",
      "c3 (Dense)                      (None, 11)           450571      dropout_11[0][0]                 \n",
      "__________________________________________________________________________________________________\n",
      "c4 (Dense)                      (None, 11)           450571      dropout_11[0][0]                 \n",
      "__________________________________________________________________________________________________\n",
      "c5 (Dense)                      (None, 11)           450571      dropout_11[0][0]                 \n",
      "__________________________________________________________________________________________________\n",
      "c6 (Dense)                      (None, 11)           450571      dropout_11[0][0]                 \n",
      "__________________________________________________________________________________________________\n",
      "c7 (Dense)                      (None, 11)           450571      dropout_11[0][0]                 \n",
      "__________________________________________________________________________________________________\n",
      "c8 (Dense)                      (None, 11)           450571      dropout_11[0][0]                 \n",
      "__________________________________________________________________________________________________\n",
      "c9 (Dense)                      (None, 11)           450571      dropout_11[0][0]                 \n",
      "__________________________________________________________________________________________________\n",
      "c10 (Dense)                     (None, 11)           450571      dropout_11[0][0]                 \n",
      "==================================================================================================\n",
      "Total params: 5,677,390\n",
      "Trainable params: 5,677,390\n",
      "Non-trainable params: 0\n",
      "__________________________________________________________________________________________________\n"
     ]
    }
   ],
   "source": [
    "model = build_model(width, height, n_max_len, len(characters) + 1)\n",
    "model.summary()"
   ]
  },
  {
   "cell_type": "code",
   "execution_count": 133,
   "metadata": {
    "colab": {
     "autoexec": {
      "startup": false,
      "wait_interval": 0
     },
     "base_uri": "https://localhost:8080/",
     "height": 1837
    },
    "colab_type": "code",
    "executionInfo": {
     "elapsed": 558887,
     "status": "error",
     "timestamp": 1532534471811,
     "user": {
      "displayName": "Huang Huan",
      "photoUrl": "//lh3.googleusercontent.com/-i1yYHd0-X3I/AAAAAAAAAAI/AAAAAAAAC-o/Z59jk8U4EQ4/s50-c-k-no/photo.jpg",
      "userId": "111113826829071176999"
     },
     "user_tz": -480
    },
    "id": "JsUTaime4EPD",
    "outputId": "f3dcf26c-ae3a-4056-ab81-15dda159d2e7"
   },
   "outputs": [
    {
     "name": "stderr",
     "output_type": "stream",
     "text": [
      "/usr/local/lib/python2.7/dist-packages/ipykernel_launcher.py:3: UserWarning: The semantics of the Keras 2 argument `steps_per_epoch` is not the same as the Keras 1 argument `samples_per_epoch`. `steps_per_epoch` is the number of batches to draw from the generator at each epoch. Basically steps_per_epoch = samples_per_epoch/batch_size. Similarly `nb_val_samples`->`validation_steps` and `val_samples`->`steps` arguments have changed. Update your method calls accordingly.\n",
      "  This is separate from the ipykernel package so we can avoid doing imports until\n",
      "/usr/local/lib/python2.7/dist-packages/ipykernel_launcher.py:3: UserWarning: Update your `fit_generator` call to the Keras 2 API: `fit_generator(<generator..., use_multiprocessing=True, workers=2, validation_data=<generator..., steps_per_epoch=1280, epochs=5, validation_steps=160)`\n",
      "  This is separate from the ipykernel package so we can avoid doing imports until\n"
     ]
    },
    {
     "name": "stdout",
     "output_type": "stream",
     "text": [
      "Epoch 1/5\n",
      " 231/1280 [====>.........................] - ETA: 5:36 - loss: 5.4223 - c1_loss: 0.4900 - c2_loss: 0.5562 - c3_loss: 0.6184 - c4_loss: 0.6355 - c5_loss: 0.6235 - c6_loss: 0.6375 - c7_loss: 0.5908 - c8_loss: 0.5603 - c9_loss: 0.4417 - c10_loss: 0.2683 - c1_acc: 0.8805 - c2_acc: 0.8389 - c3_acc: 0.8122 - c4_acc: 0.8021 - c5_acc: 0.8051 - c6_acc: 0.8052 - c7_acc: 0.8274 - c8_acc: 0.8425 - c9_acc: 0.8881 - c10_acc: 0.9499 467/1280 [=========>....................] - ETA: 4:14 - loss: 2.8590 - c1_loss: 0.2553 - c2_loss: 0.2943 - c3_loss: 0.3244 - c4_loss: 0.3300 - c5_loss: 0.3304 - c6_loss: 0.3382 - c7_loss: 0.3090 - c8_loss: 0.2949 - c9_loss: 0.2353 - c10_loss: 0.1473 - c1_acc: 0.9388 - c2_acc: 0.9174 - c3_acc: 0.9037 - c4_acc: 0.8998 - c5_acc: 0.9002 - c6_acc: 0.9004 - c7_acc: 0.9121 - c8_acc: 0.9191 - c9_acc: 0.9419 - c10_acc: 0.9721 703/1280 [===============>..............] - ETA: 2:58 - loss: 1.9024 - c1_loss: 0.1698 - c2_loss: 0.1962 - c3_loss: 0.2157 - c4_loss: 0.2193 - c5_loss: 0.2198 - c6_loss: 0.2255 - c7_loss: 0.2055 - c8_loss: 0.1959 - c9_loss: 0.1564 - c10_loss: 0.0983 - c1_acc: 0.9593 - c2_acc: 0.9449 - c3_acc: 0.9359 - c4_acc: 0.9334 - c5_acc: 0.9336 - c6_acc: 0.9336 - c7_acc: 0.9415 - c8_acc: 0.9463 - c9_acc: 0.9614 - c10_acc: 0.9813 939/1280 [=====================>........] - ETA: 1:45 - loss: 1.4254 - c1_loss: 0.1273 - c2_loss: 0.1472 - c3_loss: 0.1615 - c4_loss: 0.1642 - c5_loss: 0.1646 - c6_loss: 0.1689 - c7_loss: 0.1538 - c8_loss: 0.1467 - c9_loss: 0.1174 - c10_loss: 0.0737 - c1_acc: 0.9695 - c2_acc: 0.9586 - c3_acc: 0.9520 - c4_acc: 0.9501 - c5_acc: 0.9503 - c6_acc: 0.9502 - c7_acc: 0.9562 - c8_acc: 0.9598 - c9_acc: 0.9710 - c10_acc: 0.98591175/1280 [==========================>...] - ETA: 32s - loss: 1.1404 - c1_loss: 0.1020 - c2_loss: 0.1177 - c3_loss: 0.1291 - c4_loss: 0.1317 - c5_loss: 0.1315 - c6_loss: 0.1350 - c7_loss: 0.1229 - c8_loss: 0.1173 - c9_loss: 0.0941 - c10_loss: 0.0592 - c1_acc: 0.9756 - c2_acc: 0.9669 - c3_acc: 0.9617 - c4_acc: 0.9601 - c5_acc: 0.9603 - c6_acc: 0.9602 - c7_acc: 0.9650 - c8_acc: 0.9678 - c9_acc: 0.9767 - c10_acc: 0.98861280/1280 [==============================] - 414s 324ms/step - loss: 1.0469 - c1_loss: 0.0936 - c2_loss: 0.1081 - c3_loss: 0.1185 - c4_loss: 0.1209 - c5_loss: 0.1207 - c6_loss: 0.1239 - c7_loss: 0.1129 - c8_loss: 0.1076 - c9_loss: 0.0864 - c10_loss: 0.0543 - c1_acc: 0.9776 - c2_acc: 0.9696 - c3_acc: 0.9648 - c4_acc: 0.9634 - c5_acc: 0.9635 - c6_acc: 0.9635 - c7_acc: 0.9679 - c8_acc: 0.9705 - c9_acc: 0.9786 - c10_acc: 0.9896 - val_loss: 0.0014 - val_c1_loss: 2.2274e-07 - val_c2_loss: 2.1255e-07 - val_c3_loss: 1.2723e-07 - val_c4_loss: 1.2313e-07 - val_c5_loss: 1.2029e-07 - val_c6_loss: 0.0014 - val_c7_loss: 1.1965e-07 - val_c8_loss: 1.4580e-07 - val_c9_loss: 1.2449e-07 - val_c10_loss: 3.1748e-07 - val_c1_acc: 1.0000 - val_c2_acc: 1.0000 - val_c3_acc: 1.0000 - val_c4_acc: 1.0000 - val_c5_acc: 1.0000 - val_c6_acc: 0.9998 - val_c7_acc: 1.0000 - val_c8_acc: 1.0000 - val_c9_acc: 1.0000 - val_c10_acc: 1.0000\n",
      "Epoch 2/5\n",
      "  38/1280 [..............................] - ETA: 6:19 - loss: 6.6863e-06 - c1_loss: 2.5359e-06 - c2_loss: 2.0475e-07 - c3_loss: 1.7930e-07 - c4_loss: 1.3911e-07 - c5_loss: 3.3717e-07 - c6_loss: 1.1902e-06 - c7_loss: 4.8688e-07 - c8_loss: 1.3009e-07 - c9_loss: 1.4337e-07 - c10_loss: 1.3394e-06 - c1_acc: 1.0000 - c2_acc: 1.0000 - c3_acc: 1.0000 - c4_acc: 1.0000 - c5_acc: 1.0000 - c6_acc: 1.0000 - c7_acc: 1.0000 - c8_acc: 1.0000 - c9_acc: 1.0000 - c10_acc: 1.0000 252/1280 [====>.........................] - ETA: 5:13 - loss: 4.9281e-04 - c1_loss: 8.8109e-07 - c2_loss: 9.2040e-06 - c3_loss: 1.5118e-06 - c4_loss: 5.6259e-05 - c5_loss: 3.5741e-04 - c6_loss: 3.9725e-07 - c7_loss: 1.0395e-05 - c8_loss: 3.9002e-05 - c9_loss: 1.3840e-06 - c10_loss: 1.6366e-05 - c1_acc: 1.0000 - c2_acc: 1.0000 - c3_acc: 1.0000 - c4_acc: 1.0000 - c5_acc: 0.9999 - c6_acc: 1.0000 - c7_acc: 1.0000 - c8_acc: 1.0000 - c9_acc: 1.0000 - c10_acc: 1.0000 457/1280 [=========>....................] - ETA: 4:10 - loss: 6.3955e-04 - c1_loss: 9.6516e-06 - c2_loss: 7.0068e-06 - c3_loss: 1.0358e-06 - c4_loss: 3.1547e-05 - c5_loss: 2.0204e-04 - c6_loss: 3.4719e-04 - c7_loss: 7.1686e-06 - c8_loss: 2.3807e-05 - c9_loss: 9.0778e-07 - c10_loss: 9.1976e-06 - c1_acc: 1.0000 - c2_acc: 1.0000 - c3_acc: 1.0000 - c4_acc: 1.0000 - c5_acc: 0.9999 - c6_acc: 0.9999 - c7_acc: 1.0000 - c8_acc: 1.0000 - c9_acc: 1.0000 - c10_acc: 1.0000"
     ]
    },
    {
     "name": "stderr",
     "output_type": "stream",
     "text": [
      "Process Process-54:\n",
      "Process Process-53:\n",
      "Traceback (most recent call last):\n",
      "Traceback (most recent call last):\n",
      "  File \"/usr/lib/python2.7/multiprocessing/process.py\", line 267, in _bootstrap\n",
      "  File \"/usr/lib/python2.7/multiprocessing/process.py\", line 267, in _bootstrap\n",
      "    self.run()\n",
      "  File \"/usr/lib/python2.7/multiprocessing/process.py\", line 114, in run\n",
      "    self.run()\n",
      "  File \"/usr/lib/python2.7/multiprocessing/process.py\", line 114, in run\n",
      "    self._target(*self._args, **self._kwargs)\n",
      "  File \"/usr/local/lib/python2.7/dist-packages/keras/utils/data_utils.py\", line 680, in _data_generator_task\n",
      "    time.sleep(self.wait_time)\n",
      "KeyboardInterrupt\n",
      "    self._target(*self._args, **self._kwargs)\n",
      "  File \"/usr/local/lib/python2.7/dist-packages/keras/utils/data_utils.py\", line 680, in _data_generator_task\n",
      "    time.sleep(self.wait_time)\n",
      "KeyboardInterrupt\n"
     ]
    },
    {
     "ename": "KeyboardInterrupt",
     "evalue": "ignored",
     "output_type": "error",
     "traceback": [
      "\u001b[0;31m\u001b[0m",
      "\u001b[0;31mKeyboardInterrupt\u001b[0mTraceback (most recent call last)",
      "\u001b[0;32m<ipython-input-133-3ca665d3e943>\u001b[0m in \u001b[0;36m<module>\u001b[0;34m()\u001b[0m\n\u001b[1;32m      1\u001b[0m model.fit_generator(gen(characters,height=height,n_max_len=n_max_len), samples_per_epoch=1280, nb_epoch=5, \n\u001b[1;32m      2\u001b[0m                     \u001b[0mnb_worker\u001b[0m\u001b[0;34m=\u001b[0m\u001b[0;36m2\u001b[0m\u001b[0;34m,\u001b[0m \u001b[0mpickle_safe\u001b[0m\u001b[0;34m=\u001b[0m\u001b[0mTrue\u001b[0m\u001b[0;34m,\u001b[0m\u001b[0;34m\u001b[0m\u001b[0m\n\u001b[0;32m----> 3\u001b[0;31m                     validation_data=gen(characters,height=height,n_max_len=n_max_len), nb_val_samples=160)\n\u001b[0m",
      "\u001b[0;32m/usr/local/lib/python2.7/dist-packages/keras/legacy/interfaces.pyc\u001b[0m in \u001b[0;36mwrapper\u001b[0;34m(*args, **kwargs)\u001b[0m\n\u001b[1;32m     89\u001b[0m                 warnings.warn('Update your `' + object_name +\n\u001b[1;32m     90\u001b[0m                               '` call to the Keras 2 API: ' + signature, stacklevel=2)\n\u001b[0;32m---> 91\u001b[0;31m             \u001b[0;32mreturn\u001b[0m \u001b[0mfunc\u001b[0m\u001b[0;34m(\u001b[0m\u001b[0;34m*\u001b[0m\u001b[0margs\u001b[0m\u001b[0;34m,\u001b[0m \u001b[0;34m**\u001b[0m\u001b[0mkwargs\u001b[0m\u001b[0;34m)\u001b[0m\u001b[0;34m\u001b[0m\u001b[0m\n\u001b[0m\u001b[1;32m     92\u001b[0m         \u001b[0mwrapper\u001b[0m\u001b[0;34m.\u001b[0m\u001b[0m_original_function\u001b[0m \u001b[0;34m=\u001b[0m \u001b[0mfunc\u001b[0m\u001b[0;34m\u001b[0m\u001b[0m\n\u001b[1;32m     93\u001b[0m         \u001b[0;32mreturn\u001b[0m \u001b[0mwrapper\u001b[0m\u001b[0;34m\u001b[0m\u001b[0m\n",
      "\u001b[0;32m/usr/local/lib/python2.7/dist-packages/keras/engine/training.pyc\u001b[0m in \u001b[0;36mfit_generator\u001b[0;34m(self, generator, steps_per_epoch, epochs, verbose, callbacks, validation_data, validation_steps, class_weight, max_queue_size, workers, use_multiprocessing, shuffle, initial_epoch)\u001b[0m\n\u001b[1;32m   2228\u001b[0m                     outs = self.train_on_batch(x, y,\n\u001b[1;32m   2229\u001b[0m                                                \u001b[0msample_weight\u001b[0m\u001b[0;34m=\u001b[0m\u001b[0msample_weight\u001b[0m\u001b[0;34m,\u001b[0m\u001b[0;34m\u001b[0m\u001b[0m\n\u001b[0;32m-> 2230\u001b[0;31m                                                class_weight=class_weight)\n\u001b[0m\u001b[1;32m   2231\u001b[0m \u001b[0;34m\u001b[0m\u001b[0m\n\u001b[1;32m   2232\u001b[0m                     \u001b[0;32mif\u001b[0m \u001b[0;32mnot\u001b[0m \u001b[0misinstance\u001b[0m\u001b[0;34m(\u001b[0m\u001b[0mouts\u001b[0m\u001b[0;34m,\u001b[0m \u001b[0mlist\u001b[0m\u001b[0;34m)\u001b[0m\u001b[0;34m:\u001b[0m\u001b[0;34m\u001b[0m\u001b[0m\n",
      "\u001b[0;32m/usr/local/lib/python2.7/dist-packages/keras/engine/training.pyc\u001b[0m in \u001b[0;36mtrain_on_batch\u001b[0;34m(self, x, y, sample_weight, class_weight)\u001b[0m\n\u001b[1;32m   1881\u001b[0m             \u001b[0mins\u001b[0m \u001b[0;34m=\u001b[0m \u001b[0mx\u001b[0m \u001b[0;34m+\u001b[0m \u001b[0my\u001b[0m \u001b[0;34m+\u001b[0m \u001b[0msample_weights\u001b[0m\u001b[0;34m\u001b[0m\u001b[0m\n\u001b[1;32m   1882\u001b[0m         \u001b[0mself\u001b[0m\u001b[0;34m.\u001b[0m\u001b[0m_make_train_function\u001b[0m\u001b[0;34m(\u001b[0m\u001b[0;34m)\u001b[0m\u001b[0;34m\u001b[0m\u001b[0m\n\u001b[0;32m-> 1883\u001b[0;31m         \u001b[0moutputs\u001b[0m \u001b[0;34m=\u001b[0m \u001b[0mself\u001b[0m\u001b[0;34m.\u001b[0m\u001b[0mtrain_function\u001b[0m\u001b[0;34m(\u001b[0m\u001b[0mins\u001b[0m\u001b[0;34m)\u001b[0m\u001b[0;34m\u001b[0m\u001b[0m\n\u001b[0m\u001b[1;32m   1884\u001b[0m         \u001b[0;32mif\u001b[0m \u001b[0mlen\u001b[0m\u001b[0;34m(\u001b[0m\u001b[0moutputs\u001b[0m\u001b[0;34m)\u001b[0m \u001b[0;34m==\u001b[0m \u001b[0;36m1\u001b[0m\u001b[0;34m:\u001b[0m\u001b[0;34m\u001b[0m\u001b[0m\n\u001b[1;32m   1885\u001b[0m             \u001b[0;32mreturn\u001b[0m \u001b[0moutputs\u001b[0m\u001b[0;34m[\u001b[0m\u001b[0;36m0\u001b[0m\u001b[0;34m]\u001b[0m\u001b[0;34m\u001b[0m\u001b[0m\n",
      "\u001b[0;32m/usr/local/lib/python2.7/dist-packages/keras/backend/tensorflow_backend.pyc\u001b[0m in \u001b[0;36m__call__\u001b[0;34m(self, inputs)\u001b[0m\n\u001b[1;32m   2480\u001b[0m         \u001b[0msession\u001b[0m \u001b[0;34m=\u001b[0m \u001b[0mget_session\u001b[0m\u001b[0;34m(\u001b[0m\u001b[0;34m)\u001b[0m\u001b[0;34m\u001b[0m\u001b[0m\n\u001b[1;32m   2481\u001b[0m         updated = session.run(fetches=fetches, feed_dict=feed_dict,\n\u001b[0;32m-> 2482\u001b[0;31m                               **self.session_kwargs)\n\u001b[0m\u001b[1;32m   2483\u001b[0m         \u001b[0;32mreturn\u001b[0m \u001b[0mupdated\u001b[0m\u001b[0;34m[\u001b[0m\u001b[0;34m:\u001b[0m\u001b[0mlen\u001b[0m\u001b[0;34m(\u001b[0m\u001b[0mself\u001b[0m\u001b[0;34m.\u001b[0m\u001b[0moutputs\u001b[0m\u001b[0;34m)\u001b[0m\u001b[0;34m]\u001b[0m\u001b[0;34m\u001b[0m\u001b[0m\n\u001b[1;32m   2484\u001b[0m \u001b[0;34m\u001b[0m\u001b[0m\n",
      "\u001b[0;32m/usr/local/lib/python2.7/dist-packages/tensorflow/python/client/session.pyc\u001b[0m in \u001b[0;36mrun\u001b[0;34m(self, fetches, feed_dict, options, run_metadata)\u001b[0m\n\u001b[1;32m    898\u001b[0m     \u001b[0;32mtry\u001b[0m\u001b[0;34m:\u001b[0m\u001b[0;34m\u001b[0m\u001b[0m\n\u001b[1;32m    899\u001b[0m       result = self._run(None, fetches, feed_dict, options_ptr,\n\u001b[0;32m--> 900\u001b[0;31m                          run_metadata_ptr)\n\u001b[0m\u001b[1;32m    901\u001b[0m       \u001b[0;32mif\u001b[0m \u001b[0mrun_metadata\u001b[0m\u001b[0;34m:\u001b[0m\u001b[0;34m\u001b[0m\u001b[0m\n\u001b[1;32m    902\u001b[0m         \u001b[0mproto_data\u001b[0m \u001b[0;34m=\u001b[0m \u001b[0mtf_session\u001b[0m\u001b[0;34m.\u001b[0m\u001b[0mTF_GetBuffer\u001b[0m\u001b[0;34m(\u001b[0m\u001b[0mrun_metadata_ptr\u001b[0m\u001b[0;34m)\u001b[0m\u001b[0;34m\u001b[0m\u001b[0m\n",
      "\u001b[0;32m/usr/local/lib/python2.7/dist-packages/tensorflow/python/client/session.pyc\u001b[0m in \u001b[0;36m_run\u001b[0;34m(self, handle, fetches, feed_dict, options, run_metadata)\u001b[0m\n\u001b[1;32m   1133\u001b[0m     \u001b[0;32mif\u001b[0m \u001b[0mfinal_fetches\u001b[0m \u001b[0;32mor\u001b[0m \u001b[0mfinal_targets\u001b[0m \u001b[0;32mor\u001b[0m \u001b[0;34m(\u001b[0m\u001b[0mhandle\u001b[0m \u001b[0;32mand\u001b[0m \u001b[0mfeed_dict_tensor\u001b[0m\u001b[0;34m)\u001b[0m\u001b[0;34m:\u001b[0m\u001b[0;34m\u001b[0m\u001b[0m\n\u001b[1;32m   1134\u001b[0m       results = self._do_run(handle, final_targets, final_fetches,\n\u001b[0;32m-> 1135\u001b[0;31m                              feed_dict_tensor, options, run_metadata)\n\u001b[0m\u001b[1;32m   1136\u001b[0m     \u001b[0;32melse\u001b[0m\u001b[0;34m:\u001b[0m\u001b[0;34m\u001b[0m\u001b[0m\n\u001b[1;32m   1137\u001b[0m       \u001b[0mresults\u001b[0m \u001b[0;34m=\u001b[0m \u001b[0;34m[\u001b[0m\u001b[0;34m]\u001b[0m\u001b[0;34m\u001b[0m\u001b[0m\n",
      "\u001b[0;32m/usr/local/lib/python2.7/dist-packages/tensorflow/python/client/session.pyc\u001b[0m in \u001b[0;36m_do_run\u001b[0;34m(self, handle, target_list, fetch_list, feed_dict, options, run_metadata)\u001b[0m\n\u001b[1;32m   1314\u001b[0m     \u001b[0;32mif\u001b[0m \u001b[0mhandle\u001b[0m \u001b[0;32mis\u001b[0m \u001b[0mNone\u001b[0m\u001b[0;34m:\u001b[0m\u001b[0;34m\u001b[0m\u001b[0m\n\u001b[1;32m   1315\u001b[0m       return self._do_call(_run_fn, feeds, fetches, targets, options,\n\u001b[0;32m-> 1316\u001b[0;31m                            run_metadata)\n\u001b[0m\u001b[1;32m   1317\u001b[0m     \u001b[0;32melse\u001b[0m\u001b[0;34m:\u001b[0m\u001b[0;34m\u001b[0m\u001b[0m\n\u001b[1;32m   1318\u001b[0m       \u001b[0;32mreturn\u001b[0m \u001b[0mself\u001b[0m\u001b[0;34m.\u001b[0m\u001b[0m_do_call\u001b[0m\u001b[0;34m(\u001b[0m\u001b[0m_prun_fn\u001b[0m\u001b[0;34m,\u001b[0m \u001b[0mhandle\u001b[0m\u001b[0;34m,\u001b[0m \u001b[0mfeeds\u001b[0m\u001b[0;34m,\u001b[0m \u001b[0mfetches\u001b[0m\u001b[0;34m)\u001b[0m\u001b[0;34m\u001b[0m\u001b[0m\n",
      "\u001b[0;32m/usr/local/lib/python2.7/dist-packages/tensorflow/python/client/session.pyc\u001b[0m in \u001b[0;36m_do_call\u001b[0;34m(self, fn, *args)\u001b[0m\n\u001b[1;32m   1320\u001b[0m   \u001b[0;32mdef\u001b[0m \u001b[0m_do_call\u001b[0m\u001b[0;34m(\u001b[0m\u001b[0mself\u001b[0m\u001b[0;34m,\u001b[0m \u001b[0mfn\u001b[0m\u001b[0;34m,\u001b[0m \u001b[0;34m*\u001b[0m\u001b[0margs\u001b[0m\u001b[0;34m)\u001b[0m\u001b[0;34m:\u001b[0m\u001b[0;34m\u001b[0m\u001b[0m\n\u001b[1;32m   1321\u001b[0m     \u001b[0;32mtry\u001b[0m\u001b[0;34m:\u001b[0m\u001b[0;34m\u001b[0m\u001b[0m\n\u001b[0;32m-> 1322\u001b[0;31m       \u001b[0;32mreturn\u001b[0m \u001b[0mfn\u001b[0m\u001b[0;34m(\u001b[0m\u001b[0;34m*\u001b[0m\u001b[0margs\u001b[0m\u001b[0;34m)\u001b[0m\u001b[0;34m\u001b[0m\u001b[0m\n\u001b[0m\u001b[1;32m   1323\u001b[0m     \u001b[0;32mexcept\u001b[0m \u001b[0merrors\u001b[0m\u001b[0;34m.\u001b[0m\u001b[0mOpError\u001b[0m \u001b[0;32mas\u001b[0m \u001b[0me\u001b[0m\u001b[0;34m:\u001b[0m\u001b[0;34m\u001b[0m\u001b[0m\n\u001b[1;32m   1324\u001b[0m       \u001b[0mmessage\u001b[0m \u001b[0;34m=\u001b[0m \u001b[0mcompat\u001b[0m\u001b[0;34m.\u001b[0m\u001b[0mas_text\u001b[0m\u001b[0;34m(\u001b[0m\u001b[0me\u001b[0m\u001b[0;34m.\u001b[0m\u001b[0mmessage\u001b[0m\u001b[0;34m)\u001b[0m\u001b[0;34m\u001b[0m\u001b[0m\n",
      "\u001b[0;32m/usr/local/lib/python2.7/dist-packages/tensorflow/python/client/session.pyc\u001b[0m in \u001b[0;36m_run_fn\u001b[0;34m(feed_dict, fetch_list, target_list, options, run_metadata)\u001b[0m\n\u001b[1;32m   1305\u001b[0m       \u001b[0mself\u001b[0m\u001b[0;34m.\u001b[0m\u001b[0m_extend_graph\u001b[0m\u001b[0;34m(\u001b[0m\u001b[0;34m)\u001b[0m\u001b[0;34m\u001b[0m\u001b[0m\n\u001b[1;32m   1306\u001b[0m       return self._call_tf_sessionrun(\n\u001b[0;32m-> 1307\u001b[0;31m           options, feed_dict, fetch_list, target_list, run_metadata)\n\u001b[0m\u001b[1;32m   1308\u001b[0m \u001b[0;34m\u001b[0m\u001b[0m\n\u001b[1;32m   1309\u001b[0m     \u001b[0;32mdef\u001b[0m \u001b[0m_prun_fn\u001b[0m\u001b[0;34m(\u001b[0m\u001b[0mhandle\u001b[0m\u001b[0;34m,\u001b[0m \u001b[0mfeed_dict\u001b[0m\u001b[0;34m,\u001b[0m \u001b[0mfetch_list\u001b[0m\u001b[0;34m)\u001b[0m\u001b[0;34m:\u001b[0m\u001b[0;34m\u001b[0m\u001b[0m\n",
      "\u001b[0;32m/usr/local/lib/python2.7/dist-packages/tensorflow/python/client/session.pyc\u001b[0m in \u001b[0;36m_call_tf_sessionrun\u001b[0;34m(self, options, feed_dict, fetch_list, target_list, run_metadata)\u001b[0m\n\u001b[1;32m   1407\u001b[0m       return tf_session.TF_SessionRun_wrapper(\n\u001b[1;32m   1408\u001b[0m           \u001b[0mself\u001b[0m\u001b[0;34m.\u001b[0m\u001b[0m_session\u001b[0m\u001b[0;34m,\u001b[0m \u001b[0moptions\u001b[0m\u001b[0;34m,\u001b[0m \u001b[0mfeed_dict\u001b[0m\u001b[0;34m,\u001b[0m \u001b[0mfetch_list\u001b[0m\u001b[0;34m,\u001b[0m \u001b[0mtarget_list\u001b[0m\u001b[0;34m,\u001b[0m\u001b[0;34m\u001b[0m\u001b[0m\n\u001b[0;32m-> 1409\u001b[0;31m           run_metadata)\n\u001b[0m\u001b[1;32m   1410\u001b[0m     \u001b[0;32melse\u001b[0m\u001b[0;34m:\u001b[0m\u001b[0;34m\u001b[0m\u001b[0m\n\u001b[1;32m   1411\u001b[0m       \u001b[0;32mwith\u001b[0m \u001b[0merrors\u001b[0m\u001b[0;34m.\u001b[0m\u001b[0mraise_exception_on_not_ok_status\u001b[0m\u001b[0;34m(\u001b[0m\u001b[0;34m)\u001b[0m \u001b[0;32mas\u001b[0m \u001b[0mstatus\u001b[0m\u001b[0;34m:\u001b[0m\u001b[0;34m\u001b[0m\u001b[0m\n",
      "\u001b[0;31mKeyboardInterrupt\u001b[0m: "
     ]
    }
   ],
   "source": [
    "model.fit_generator(gen(characters,height=height,n_max_len=n_max_len), samples_per_epoch=1280, nb_epoch=5, \n",
    "                    nb_worker=2, pickle_safe=True, \n",
    "                    validation_data=gen(characters,height=height,n_max_len=n_max_len), nb_val_samples=160)"
   ]
  },
  {
   "cell_type": "code",
   "execution_count": 134,
   "metadata": {
    "colab": {
     "autoexec": {
      "startup": false,
      "wait_interval": 0
     },
     "base_uri": "https://localhost:8080/",
     "height": 187
    },
    "colab_type": "code",
    "executionInfo": {
     "elapsed": 2020,
     "status": "ok",
     "timestamp": 1532534474711,
     "user": {
      "displayName": "Huang Huan",
      "photoUrl": "//lh3.googleusercontent.com/-i1yYHd0-X3I/AAAAAAAAAAI/AAAAAAAAC-o/Z59jk8U4EQ4/s50-c-k-no/photo.jpg",
      "userId": "111113826829071176999"
     },
     "user_tz": -480
    },
    "id": "BMevFDF8AVwo",
    "outputId": "7a8e909d-c003-4b11-af15-309fe8ceb74b"
   },
   "outputs": [
    {
     "name": "stdout",
     "output_type": "stream",
     "text": [
      "truth\n",
      "     零    \n",
      "pred as\n",
      "     零    \n",
      "('X shape', (1, 64, 640))\n"
     ]
    },
    {
     "data": {
      "text/plain": [
       "<matplotlib.image.AxesImage at 0x7f047ce12b50>"
      ]
     },
     "execution_count": 134,
     "metadata": {
      "tags": []
     },
     "output_type": "execute_result"
    },
    {
     "data": {
      "image/png": "[encoded data removed]",
      "text/plain": [
       "<matplotlib.figure.Figure at 0x7f04741d4550>"
      ]
     },
     "metadata": {
      "tags": []
     },
     "output_type": "display_data"
    }
   ],
   "source": [
    "# 手动测试模型\n",
    "\n",
    "X, y = next(gen(characters, n_max_len= n_max_len, height = 64, batch_size = 1))\n",
    "y_pred = model.predict(X)\n",
    "print(u\"truth\")\n",
    "print(decode(characters, y))\n",
    "print(u\"pred as\")\n",
    "print(decode(characters, y_pred))\n",
    "print(\"X shape\", X.shape)\n",
    "plt.imshow(X[0])"
   ]
  },
  {
   "cell_type": "code",
   "execution_count": 135,
   "metadata": {
    "colab": {
     "autoexec": {
      "startup": false,
      "wait_interval": 0
     },
     "base_uri": "https://localhost:8080/",
     "height": 51
    },
    "colab_type": "code",
    "executionInfo": {
     "elapsed": 5684,
     "status": "ok",
     "timestamp": 1532534484670,
     "user": {
      "displayName": "Huang Huan",
      "photoUrl": "//lh3.googleusercontent.com/-i1yYHd0-X3I/AAAAAAAAAAI/AAAAAAAAC-o/Z59jk8U4EQ4/s50-c-k-no/photo.jpg",
      "userId": "111113826829071176999"
     },
     "user_tz": -480
    },
    "id": "HLoeSMq3AYIi",
    "outputId": "94dfd841-cd65-433b-f269-b0e6e265d4d5"
   },
   "outputs": [
    {
     "name": "stderr",
     "output_type": "stream",
     "text": [
      "100%|██████████| 32/32 [00:04<00:00,  6.78it/s]\n"
     ]
    },
    {
     "data": {
      "text/plain": [
       "1.0"
      ]
     },
     "execution_count": 135,
     "metadata": {
      "tags": []
     },
     "output_type": "execute_result"
    }
   ],
   "source": [
    "# evaluate\n",
    "\n",
    "from tqdm import tqdm\n",
    "def evaluate(model, batch_num=32):\n",
    "    batch_acc = 0\n",
    "    generator = gen(characters, n_max_len= n_max_len, height = height)\n",
    "    for i in tqdm(range(batch_num)):\n",
    "        X, y = next(generator)\n",
    "        y_pred = model.predict(X)\n",
    "        y_pred = np.argmax(y_pred, axis=2).T\n",
    "        y_true = np.argmax(y, axis=2).T\n",
    "        batch_acc += np.mean(map(np.array_equal, y_true, y_pred))\n",
    "    return batch_acc / batch_num\n",
    "\n",
    "evaluate(model)"
   ]
  }
 ],
 "metadata": {
  "accelerator": "GPU",
  "colab": {
   "collapsed_sections": [],
   "default_view": {},
   "name": "变长字符cnn.ipynb",
   "provenance": [],
   "version": "0.3.2",
   "views": {}
  },
  "kernelspec": {
   "display_name": "Python 2",
   "language": "python",
   "name": "python2"
  },
  "language_info": {
   "codemirror_mode": {
    "name": "ipython",
    "version": 2
   },
   "file_extension": ".py",
   "mimetype": "text/x-python",
   "name": "python",
   "nbconvert_exporter": "python",
   "pygments_lexer": "ipython2",
   "version": "2.7.10"
  }
 },
 "nbformat": 4,
 "nbformat_minor": 1
}
