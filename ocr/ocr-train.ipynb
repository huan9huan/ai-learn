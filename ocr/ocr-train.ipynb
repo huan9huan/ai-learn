{
 "cells": [
  {
   "cell_type": "code",
   "execution_count": 9,
   "metadata": {
    "colab": {
     "autoexec": {
      "startup": false,
      "wait_interval": 0
     },
     "base_uri": "https://localhost:8080/",
     "height": 34
    },
    "colab_type": "code",
    "executionInfo": {
     "elapsed": 687,
     "status": "ok",
     "timestamp": 1532163512232,
     "user": {
      "displayName": "Huang Huan",
      "photoUrl": "//lh3.googleusercontent.com/-i1yYHd0-X3I/AAAAAAAAAAI/AAAAAAAAC-o/Z59jk8U4EQ4/s50-c-k-no/photo.jpg",
      "userId": "111113826829071176999"
     },
     "user_tz": -480
    },
    "id": "O0srpl9nv_ad",
    "outputId": "a69aa5ec-38fa-4cf3-c255-88ca8846cb98"
   },
   "outputs": [
    {
     "name": "stdout",
     "output_type": "stream",
     "text": [
      "你好\n"
     ]
    }
   ],
   "source": [
    "# coding=utf-8\n",
    "from __future__ import print_function\n",
    "import keras\n",
    "from keras.preprocessing.image import ImageDataGenerator\n",
    "from keras import optimizers, regularizers\n",
    "from keras.models import Sequential, Model\n",
    "from keras.layers import Dense, Conv2D, Dropout, MaxPooling2D, Flatten, Input, GlobalAveragePooling2D\n",
    "import sys\n",
    "import os\n",
    "import errno\n",
    "import pickle \n",
    "import numpy as np\n",
    "import sys\n",
    "# reload(sys)\n",
    "# sys.setdefaultencoding('utf8')\n",
    "print(u\"你好\")"
   ]
  },
  {
   "cell_type": "code",
   "execution_count": 0,
   "metadata": {
    "colab": {
     "autoexec": {
      "startup": false,
      "wait_interval": 0
     }
    },
    "colab_type": "code",
    "id": "xDQRcOatwR6e"
   },
   "outputs": [],
   "source": [
    "# utils\n",
    "def mkdir_p(path):\n",
    "    try:\n",
    "        os.makedirs(path)\n",
    "    except OSError as exc:  # Python >2.5\n",
    "        if  exc.errno == errno.EEXIST and os.path.isdir(path):\n",
    "            pass\n",
    "        else:\n",
    "            raise\n",
    "\n",
    "def to_id(file):\n",
    "    return file.split(\".\")[0]\n",
    "\n",
    "def to_labels(idx, ids):\n",
    "    l = {}\n",
    "    for id in ids:\n",
    "        l[id] = idx\n",
    "    return l\n",
    "  \n",
    "def get_ids(path):\n",
    "    return [to_id(x) for x in os.listdir(path) if x.endswith(\".png\")]\n",
    "\n",
    "def get_labels(path):\n",
    "    classes = [x for x in os.listdir(path) if x.startswith(\"n\")]\n",
    "    all_ids = [get_ids(path + \"/\" + clz) for clz in classes]\n",
    "    labels = {}\n",
    "    [labels.update(to_labels(classes.index(clz), all_ids[classes.index(clz)])) for clz in classes]\n",
    "    return (labels, classes)"
   ]
  },
  {
   "cell_type": "code",
   "execution_count": 0,
   "metadata": {
    "colab": {
     "autoexec": {
      "startup": false,
      "wait_interval": 0
     }
    },
    "colab_type": "code",
    "id": "PrzW7YLRwMJL"
   },
   "outputs": [],
   "source": [
    "# build the model\n",
    "\n",
    "def build_model(input_shape, n_classes, learning_rate = 0.001):\n",
    "    input = Input(shape=input_shape, name = 'feature_input')\n",
    "    \n",
    "    x = input\n",
    "    x = Conv2D(32, (3,3), activation='relu', padding=\"same\")(x)\n",
    "    x = MaxPooling2D()(x)\n",
    "\n",
    "    x = Conv2D(64, (3,3), activation='relu', padding=\"same\")(x)\n",
    "    x = MaxPooling2D()(x)\n",
    "\n",
    "    x = Conv2D(128, (3,3), activation='relu', padding=\"same\")(x)\n",
    "    x = MaxPooling2D()(x)\n",
    "\n",
    "\n",
    "    x = Flatten()(x)\n",
    "    x = Dropout(0.25)(x)\n",
    "    x = Dense(256, name='fc1')(x)\n",
    "    x = Dense(128, name='fc2')(x)\n",
    "\n",
    "    x = Dense(n_classes, activation='softmax', name='predictions')(x)\n",
    "    m = Model(input=input, output=x)\n",
    "    m.compile(loss='categorical_crossentropy',\n",
    "              optimizer=optimizers.Adagrad(lr=learning_rate),\n",
    "              metrics=['accuracy'])\n",
    "    return m\n"
   ]
  },
  {
   "cell_type": "code",
   "execution_count": 0,
   "metadata": {
    "colab": {
     "autoexec": {
      "startup": false,
      "wait_interval": 0
     }
    },
    "colab_type": "code",
    "id": "7pxI2PepwhCU"
   },
   "outputs": [],
   "source": [
    "\n",
    "img_width, img_height = 64, 64\n",
    "def run(model, num_classes, epochs = 50, batch_size = 16):\n",
    "\n",
    "    train_data_dir=\"./dataset/train\"\n",
    "    val_data_dir=\"./dataset/val\"\n",
    "\n",
    "    train_labels, classes = get_labels(train_data_dir)\n",
    "    nb_train_samples = len(train_labels)\n",
    "\n",
    "    val_labels, _ = get_labels(val_data_dir)\n",
    "    nb_val_samples = len(val_labels)\n",
    "    print (\"train vs. val count\", nb_train_samples, nb_val_samples)\n",
    "\n",
    "    train_datagen = ImageDataGenerator(\n",
    "        rescale=1. / 255,\n",
    "        shear_range=0.1,\n",
    "        zoom_range=0.1,\n",
    "        horizontal_flip=False)\n",
    "\n",
    "    # test_datagen = ImageDataGenerator(rescale=1. / 255)\n",
    "    val_datagen = ImageDataGenerator()\n",
    "\n",
    "    train_generator = train_datagen.flow_from_directory(\n",
    "        train_data_dir,\n",
    "        target_size=(img_height, img_width),\n",
    "        batch_size=batch_size,\n",
    "        class_mode='categorical')\n",
    "\n",
    "    val_generator = val_datagen.flow_from_directory(\n",
    "        val_data_dir,\n",
    "        target_size=(img_height, img_width),\n",
    "        batch_size=batch_size,\n",
    "        class_mode='categorical')\n",
    "\n",
    "    model.fit_generator(\n",
    "        train_generator,\n",
    "        samples_per_epoch=nb_train_samples,\n",
    "        epochs=epochs,\n",
    "        validation_steps=100,\n",
    "        validation_data=val_generator)"
   ]
  },
  {
   "cell_type": "code",
   "execution_count": 17,
   "metadata": {
    "colab": {
     "autoexec": {
      "startup": false,
      "wait_interval": 0
     },
     "base_uri": "https://localhost:8080/",
     "height": 581
    },
    "colab_type": "code",
    "executionInfo": {
     "elapsed": 729,
     "status": "ok",
     "timestamp": 1532163857927,
     "user": {
      "displayName": "Huang Huan",
      "photoUrl": "//lh3.googleusercontent.com/-i1yYHd0-X3I/AAAAAAAAAAI/AAAAAAAAC-o/Z59jk8U4EQ4/s50-c-k-no/photo.jpg",
      "userId": "111113826829071176999"
     },
     "user_tz": -480
    },
    "id": "TyKV0IAY1AtD",
    "outputId": "25ce25f3-8299-4608-c6cb-1236f0c588c9"
   },
   "outputs": [
    {
     "name": "stdout",
     "output_type": "stream",
     "text": [
      "_________________________________________________________________\n",
      "Layer (type)                 Output Shape              Param #   \n",
      "=================================================================\n",
      "feature_input (InputLayer)   (None, 64, 64, 3)         0         \n",
      "_________________________________________________________________\n",
      "conv2d_9 (Conv2D)            (None, 64, 64, 32)        896       \n",
      "_________________________________________________________________\n",
      "max_pooling2d_9 (MaxPooling2 (None, 32, 32, 32)        0         \n",
      "_________________________________________________________________\n",
      "conv2d_10 (Conv2D)           (None, 32, 32, 64)        18496     \n",
      "_________________________________________________________________\n",
      "max_pooling2d_10 (MaxPooling (None, 16, 16, 64)        0         \n",
      "_________________________________________________________________\n",
      "conv2d_11 (Conv2D)           (None, 16, 16, 128)       73856     \n",
      "_________________________________________________________________\n",
      "max_pooling2d_11 (MaxPooling (None, 8, 8, 128)         0         \n",
      "_________________________________________________________________\n",
      "flatten_3 (Flatten)          (None, 8192)              0         \n",
      "_________________________________________________________________\n",
      "dropout_3 (Dropout)          (None, 8192)              0         \n",
      "_________________________________________________________________\n",
      "fc1 (Dense)                  (None, 256)               2097408   \n",
      "_________________________________________________________________\n",
      "fc2 (Dense)                  (None, 128)               32896     \n",
      "_________________________________________________________________\n",
      "predictions (Dense)          (None, 1000)              129000    \n",
      "=================================================================\n",
      "Total params: 2,352,552\n",
      "Trainable params: 2,352,552\n",
      "Non-trainable params: 0\n",
      "_________________________________________________________________\n"
     ]
    },
    {
     "name": "stderr",
     "output_type": "stream",
     "text": [
      "/usr/local/lib/python2.7/dist-packages/ipykernel_launcher.py:22: UserWarning: Update your `Model` call to the Keras 2 API: `Model(outputs=Tensor(\"pr..., inputs=Tensor(\"fe...)`\n"
     ]
    }
   ],
   "source": [
    "# build the model\n",
    "num_classes = 1000\n",
    "my_model = build_model((img_width,img_height,3), num_classes)\n",
    "my_model.summary()"
   ]
  },
  {
   "cell_type": "code",
   "execution_count": 8,
   "metadata": {
    "colab": {
     "autoexec": {
      "startup": false,
      "wait_interval": 0
     },
     "base_uri": "https://localhost:8080/",
     "height": 34
    },
    "colab_type": "code",
    "executionInfo": {
     "elapsed": 4446,
     "status": "ok",
     "timestamp": 1532163018112,
     "user": {
      "displayName": "Huang Huan",
      "photoUrl": "//lh3.googleusercontent.com/-i1yYHd0-X3I/AAAAAAAAAAI/AAAAAAAAC-o/Z59jk8U4EQ4/s50-c-k-no/photo.jpg",
      "userId": "111113826829071176999"
     },
     "user_tz": -480
    },
    "id": "wYAi6v_6CC-2",
    "outputId": "fe58ba06-b093-46b3-e408-60a92de8814d"
   },
   "outputs": [
    {
     "name": "stdout",
     "output_type": "stream",
     "text": [
      "ls: cannot access 'dataset': No such file or directory\r\n"
     ]
    }
   ],
   "source": [
    "!ls dataset"
   ]
  },
  {
   "cell_type": "code",
   "execution_count": 0,
   "metadata": {
    "colab": {
     "autoexec": {
      "startup": false,
      "wait_interval": 0
     },
     "base_uri": "https://localhost:8080/",
     "height": 207
    },
    "colab_type": "code",
    "id": "Jhmlv85wwo3K",
    "outputId": "649922c7-a349-45a3-9e6a-caea4e90dce2"
   },
   "outputs": [
    {
     "name": "stdout",
     "output_type": "stream",
     "text": [
      "train vs. val count 22000 6000\n",
      "Found 22000 images belonging to 1000 classes.\n",
      "Found 6000 images belonging to 1000 classes.\n"
     ]
    },
    {
     "name": "stderr",
     "output_type": "stream",
     "text": [
      "/usr/local/lib/python2.7/dist-packages/ipykernel_launcher.py:41: UserWarning: Update your `fit_generator` call to the Keras 2 API: `fit_generator(<keras.pre..., epochs=5, validation_data=<keras.pre..., steps_per_epoch=1375, validation_steps=100)`\n"
     ]
    },
    {
     "name": "stdout",
     "output_type": "stream",
     "text": [
      "Epoch 1/5\n",
      "1375/1375 [==============================] - 53s 39ms/step - loss: 5.3029 - acc: 0.1414 - val_loss: 7.8794 - val_acc: 0.5044\n",
      "Epoch 2/5\n",
      " 228/1375 [===>..........................] - ETA: 54s - loss: 2.5194 - acc: 0.48271375/1375 [==============================] - 65s 47ms/step - loss: 1.8652 - acc: 0.6048 - val_loss: 3.3166 - val_acc: 0.7906\n",
      "Epoch 3/5\n",
      "  88/1375 [>.............................] - ETA: 1:12 - loss: 1.1984 - acc: 0.7230"
     ]
    }
   ],
   "source": [
    "# train the model\n",
    "run(my_model, num_classes, epochs = 5)"
   ]
  },
  {
   "cell_type": "code",
   "execution_count": 0,
   "metadata": {
    "colab": {
     "autoexec": {
      "startup": false,
      "wait_interval": 0
     }
    },
    "colab_type": "code",
    "id": "BPkaxpUuHSoZ"
   },
   "outputs": [],
   "source": [
    "import matplotlib.pyplot as plt\n",
    "%matplotlib inline\n",
    "from scipy.misc import imread, imresize\n",
    "from keras.preprocessing import image\n",
    "\n",
    "def plt_dir(dir):\n",
    "  files = os.listdir(dir)\n",
    "  print(files)\n",
    "  _, axs = plt.subplots(1, len(files), figsize=(15,15))\n",
    "  fig = plt.figure()\n",
    "  for (i,file) in enumerate(files):\n",
    "    axs[i].imshow(imread(dir + file))\n",
    "\n",
    "def get_label_dict():\n",
    "    f=open('./chinese_labels','r')\n",
    "    label_dict = pickle.load(f)\n",
    "    f.close()\n",
    "    return label_dict\n"
   ]
  },
  {
   "cell_type": "code",
   "execution_count": 10,
   "metadata": {
    "colab": {
     "autoexec": {
      "startup": false,
      "wait_interval": 0
     },
     "base_uri": "https://localhost:8080/",
     "height": 119
    },
    "colab_type": "code",
    "executionInfo": {
     "elapsed": 5598,
     "status": "ok",
     "timestamp": 1532143109240,
     "user": {
      "displayName": "Huang Huan",
      "photoUrl": "//lh3.googleusercontent.com/-i1yYHd0-X3I/AAAAAAAAAAI/AAAAAAAAC-o/Z59jk8U4EQ4/s50-c-k-no/photo.jpg",
      "userId": "111113826829071176999"
     },
     "user_tz": -480
    },
    "id": "ddYBDwTlkAQv",
    "outputId": "13abf9cd-2126-4a94-da14-8986ba25e9ee"
   },
   "outputs": [
    {
     "name": "stdout",
     "output_type": "stream",
     "text": [
      "sort: write failed: 'standard output': Broken pipe\r\n",
      "sort: write error\n",
      "n00028_16.png  n00179_9.png   n00548_21.png  n00876_20.png\n",
      "n00034_7.png   n00229_25.png  n00611_24.png  n00901_20.png\n",
      "n00138_0.png   n00406_14.png  n00647_11.png  n00966_2.png\n",
      "n00158_25.png  n00514_3.png   n00844_23.png  n00993_1.png\n"
     ]
    }
   ],
   "source": [
    "# randome some test files\n",
    "!rm -fr dataset/tests\n",
    "!mkdir -p dataset/tests/0\n",
    "!for f in `find dataset/val -type f |sort -R |head -n 16`; do cp ${f} dataset/tests/0; done\n",
    "!ls dataset/tests/0"
   ]
  },
  {
   "cell_type": "code",
   "execution_count": 11,
   "metadata": {
    "colab": {
     "autoexec": {
      "startup": false,
      "wait_interval": 0
     },
     "base_uri": "https://localhost:8080/",
     "height": 34
    },
    "colab_type": "code",
    "executionInfo": {
     "elapsed": 1329,
     "status": "ok",
     "timestamp": 1532143122801,
     "user": {
      "displayName": "Huang Huan",
      "photoUrl": "//lh3.googleusercontent.com/-i1yYHd0-X3I/AAAAAAAAAAI/AAAAAAAAC-o/Z59jk8U4EQ4/s50-c-k-no/photo.jpg",
      "userId": "111113826829071176999"
     },
     "user_tz": -480
    },
    "id": "hXjATXoNptjB",
    "outputId": "832fad3b-6b8b-4fb5-c32d-9ee2aa997f52"
   },
   "outputs": [
    {
     "name": "stdout",
     "output_type": "stream",
     "text": [
      "且\n"
     ]
    }
   ],
   "source": [
    "import re\n",
    "labels = get_label_dict()\n",
    "\n",
    "def filename_to_char(filename):\n",
    "  idx = int(re.search(\"n(\\\\d+)_\", filename).group(1))\n",
    "  return labels[idx]\n",
    "\n",
    "def plt_files(basedir, files):\n",
    "  _, axs = plt.subplots(1, len(files), figsize=(15,15))\n",
    "  fig = plt.figure()\n",
    "  for (i,file) in enumerate(files):\n",
    "    axs[i].imshow(imread(basedir + file))\n",
    " \n",
    "print(filename_to_char(\"/n12_2.png\"))"
   ]
  },
  {
   "cell_type": "code",
   "execution_count": 12,
   "metadata": {
    "colab": {
     "autoexec": {
      "startup": false,
      "wait_interval": 0
     },
     "base_uri": "https://localhost:8080/",
     "height": 374
    },
    "colab_type": "code",
    "executionInfo": {
     "elapsed": 1913,
     "status": "ok",
     "timestamp": 1532143139997,
     "user": {
      "displayName": "Huang Huan",
      "photoUrl": "//lh3.googleusercontent.com/-i1yYHd0-X3I/AAAAAAAAAAI/AAAAAAAAC-o/Z59jk8U4EQ4/s50-c-k-no/photo.jpg",
      "userId": "111113826829071176999"
     },
     "user_tz": -480
    },
    "id": "gzdAJlN3egBh",
    "outputId": "1f68cbcd-f0a3-442c-808a-f91647614997"
   },
   "outputs": [
    {
     "name": "stdout",
     "output_type": "stream",
     "text": [
      "Found 6000 images belonging to 1000 classes.\n",
      "[ 50 892 635 956 777 406 823 578 474 223  23 718  59 807 950 598 195 772\n",
      " 816 230 440 383 970 391 372 966 188  20 710 225 476 263  67 344 126  79\n",
      " 635 502 765 137 801 384 944 677 691 212 529 216 336 303 370 167 919 962\n",
      " 694  55 111 731  62 185 413 313 177 416  21 502 405 505 537 663 928 868\n",
      "   9 283 258 826 730  35 476 142 503 734 162 374 593 259 732 202 473 411\n",
      "  56 278 425 731 857 285 218 474 739  44  41 403 226 837 897 964 512 482\n",
      " 777 498 236 831 442 258 896 234 731 443 746 889 128 899  77  74 607 292\n",
      " 276   5 354 661 465 546 556  42 470 735 314 267 552 621 209 549 347 735\n",
      " 791 843 529 767 562 458 367 764 996 758 225 306 219 998 152 694]\n",
      "[ 50 892 608 956 777 406 823 578 559 223  23 718  59 807 950 598 195 772\n",
      " 816 175 440 383 970 391 372 966 188  20 710 225 490 263  67 344 126  79\n",
      " 635 502 765 137 801 384 944 677 703 212 529 216 336 303 370 203 919 962\n",
      " 694  55 111 731  62 185 413 313 177 416  21 502 405 505 537 663 928 868\n",
      "   9 376 258 826 730  35 476 142 503 734 162 374 619 259 732 202 473 411\n",
      "  56 278 425 731 857 285 218 474 739  44  41 403 464 837 897 964 512 482\n",
      " 793 498 236 831 442 258 896 234 731 443 746 889 128 899  77  74 607 292\n",
      " 276   5 354 661 465 546 556  42 470 735 314 267 552 621 209 549 592 735\n",
      " 659 843 529 767 562 458 367 764 996 758 225 306 228 998 152 694]\n",
      "accuracy is : 0.91875\n",
      "classes as [  0   0   0 ... 999 999 999]\n"
     ]
    }
   ],
   "source": [
    "# 使用generator产生数据集做evaluate\n",
    "test_dir = \"dataset/val/\"\n",
    "batch_size = 160\n",
    "# test_datagen = ImageDataGenerator()\n",
    "\n",
    "# test_generator = test_datagen.flow_from_directory(\n",
    "#     test_dir,\n",
    "#     target_size=(img_height, img_width),\n",
    "#     batch_size=2)\n",
    "\n",
    "# X, y = test_generator.next()\n",
    "# print(X.shape)\n",
    "\n",
    "def evaluate(model, test_dir, batch_size = 16):\n",
    "  test_datagen = ImageDataGenerator()\n",
    "  test_generator = test_datagen.flow_from_directory(\n",
    "    test_dir,\n",
    "    target_size=(img_height, img_width),\n",
    "    batch_size=batch_size)\n",
    "  \n",
    "  imgs, ys = test_generator.next()\n",
    "  preds = model.predict(x = imgs, batch_size = batch_size)\n",
    "  preds = np.argmax(preds, axis=1)\n",
    "  ys = np.argmax(ys, axis=1)\n",
    "  return preds, ys, test_generator.classes\n",
    "  \n",
    "preds, truths, classes = evaluate(my_model, test_dir, batch_size = batch_size)\n",
    "print(preds)\n",
    "print(truths)\n",
    "print(\"accuracy is : \" + str(np.sum(preds == truths)/float(batch_size)))\n",
    "print(\"classes as\", classes)"
   ]
  },
  {
   "cell_type": "code",
   "execution_count": 13,
   "metadata": {
    "colab": {
     "autoexec": {
      "startup": false,
      "wait_interval": 0
     },
     "base_uri": "https://localhost:8080/",
     "height": 490
    },
    "colab_type": "code",
    "executionInfo": {
     "elapsed": 2122,
     "status": "ok",
     "timestamp": 1532143153250,
     "user": {
      "displayName": "Huang Huan",
      "photoUrl": "//lh3.googleusercontent.com/-i1yYHd0-X3I/AAAAAAAAAAI/AAAAAAAAC-o/Z59jk8U4EQ4/s50-c-k-no/photo.jpg",
      "userId": "111113826829071176999"
     },
     "user_tz": -480
    },
    "id": "HX45lxdDtQjG",
    "outputId": "7d9d3f49-0a52-4743-9054-08b9f47a0923"
   },
   "outputs": [
    {
     "name": "stdout",
     "output_type": "stream",
     "text": [
      "Found 16 images belonging to 1 classes.\n",
      "pred result as...\n",
      "28/串/串 34/丽/丽 150/估/佑 158/佩/佩 179/侯/侯 229/僚/僚 406/卉/卉 514/吱/吱 548/咖/咖 611/喧/喧 647/囤/囤 844/孝/孝 876/室/室 901/寡/寡 966/峪/峪 993/巷/巷 \n",
      "\n",
      "the true file names as\n",
      "串 - 0/n00028_16.png\n",
      "丽 - 0/n00034_7.png\n",
      "估 - 0/n00138_0.png\n",
      "佩 - 0/n00158_25.png\n",
      "侯 - 0/n00179_9.png\n",
      "僚 - 0/n00229_25.png\n",
      "卉 - 0/n00406_14.png\n",
      "吱 - 0/n00514_3.png\n",
      "咖 - 0/n00548_21.png\n",
      "喧 - 0/n00611_24.png\n",
      "囤 - 0/n00647_11.png\n",
      "孝 - 0/n00844_23.png\n",
      "室 - 0/n00876_20.png\n",
      "寡 - 0/n00901_20.png\n",
      "峪 - 0/n00966_2.png\n",
      "巷 - 0/n00993_1.png\n"
     ]
    },
    {
     "data": {
      "image/png": "[encoded data removed]",
      "text/plain": [
       "<matplotlib.figure.Figure at 0x7f9787ab95d0>"
      ]
     },
     "metadata": {
      "tags": []
     },
     "output_type": "display_data"
    },
    {
     "data": {
      "text/plain": [
       "<matplotlib.figure.Figure at 0x7f97856008d0>"
      ]
     },
     "metadata": {
      "tags": []
     },
     "output_type": "display_data"
    }
   ],
   "source": [
    "# prediction\n",
    "def predict(model, img_dir, batch_size = 16):\n",
    "  pred_datagen = ImageDataGenerator()\n",
    "  pred_generator = pred_datagen.flow_from_directory(\n",
    "    img_dir,\n",
    "    class_mode=None,\n",
    "    shuffle=False,\n",
    "    target_size=(img_height, img_width),\n",
    "    batch_size=batch_size)\n",
    "  imgs = pred_generator.next()\n",
    "  \n",
    "  preds = model.predict(x = imgs, batch_size = batch_size)\n",
    "  return np.argmax(preds, axis=1),pred_generator.filenames, pred_generator.classes\n",
    "\n",
    "\n",
    "pred_dir = \"dataset/tests/\"\n",
    "preds, names, classes = predict(my_model, pred_dir)\n",
    "\n",
    "print(\"pred result as...\")\n",
    "for i, pred in enumerate(preds):\n",
    "  sys.stdout.write(str(pred) + \"/\" + filename_to_char(names[i]) + \"/\" + labels[pred] + \" \")\n",
    "\n",
    "print(\"\\n\")\n",
    "\n",
    "print(\"the true file names as\")\n",
    "for name in names[0:16]:\n",
    "  print(filename_to_char(name) + \" - \" + name)\n",
    "    \n",
    "plt_files(pred_dir, names[0:16])"
   ]
  },
  {
   "cell_type": "code",
   "execution_count": 18,
   "metadata": {
    "colab": {
     "autoexec": {
      "startup": false,
      "wait_interval": 0
     },
     "base_uri": "https://localhost:8080/",
     "height": 71
    },
    "colab_type": "code",
    "executionInfo": {
     "elapsed": 640,
     "status": "ok",
     "timestamp": 1532143310687,
     "user": {
      "displayName": "Huang Huan",
      "photoUrl": "//lh3.googleusercontent.com/-i1yYHd0-X3I/AAAAAAAAAAI/AAAAAAAAC-o/Z59jk8U4EQ4/s50-c-k-no/photo.jpg",
      "userId": "111113826829071176999"
     },
     "user_tz": -480
    },
    "id": "jkCH89sB1olv",
    "outputId": "f75d17d4-839e-4d62-9704-3ca3779b31fa"
   },
   "outputs": [
    {
     "name": "stdout",
     "output_type": "stream",
     "text": [
      "pred result as...\n",
      "179/侯/侯 548/咖/咖 229/僚/僚 158/佩/佩 34/丽/丽 611/喧/喧 993/巷/巷 28/串/串 966/峪/峪 406/卉/卉 901/寡/寡 844/孝/孝 514/吱/吱 876/室/室 647/囤/囤 150/估/佑 "
     ]
    }
   ],
   "source": [
    "# evaluate the char WITHOUT keras image flow from directory\n",
    "\n",
    "def load_imgs(img_path):\n",
    "    images_files = []\n",
    "    images_names = []\n",
    "    if os.path.isdir(img_path):\n",
    "        images_names = [x for x in os.listdir(img_path) if x.lower().endswith(\".jpg\") | x.lower().endswith(\".png\") | x.lower().endswith(\".jpeg\")]\n",
    "        images_files = [os.path.join(img_path, x) for x in images_names]\n",
    "    else:\n",
    "        images_names.append(os.path.basename(img_path))\n",
    "        images_files.append(img_path)\n",
    "\n",
    "    images = [image.load_img(img, target_size=(img_height, img_width)) for img in images_files] \n",
    "    images = [np.asarray(img, dtype=np.float16) for img in images]\n",
    "    return (images_names, np.vstack([np.expand_dims(x, axis=0) for x in images]))\n",
    "\n",
    "  \n",
    "def inference(model, test_data_dir, batch_size = 16):\n",
    "    (names, imgs) = load_imgs(test_data_dir)\n",
    "    preds = model.predict(x = imgs, batch_size = batch_size)\n",
    "\n",
    "    return names, np.argmax(preds, axis=1)\n",
    "\n",
    "infer_dir = \"dataset/tests/0/\"\n",
    "names, preds = inference(my_model, infer_dir)\n",
    "\n",
    "print(\"pred result as...\")\n",
    "for i, pred in enumerate(preds):\n",
    "  sys.stdout.write(str(pred) + \"/\" + filename_to_char(names[i]) + \"/\" + labels[pred] + \" \")\n"
   ]
  }
 ],
 "metadata": {
  "accelerator": "GPU",
  "colab": {
   "collapsed_sections": [],
   "default_view": {},
   "name": "ocr-train.ipynb",
   "provenance": [],
   "version": "0.3.2",
   "views": {}
  },
  "kernelspec": {
   "display_name": "Python 2",
   "language": "python",
   "name": "python2"
  },
  "language_info": {
   "codemirror_mode": {
    "name": "ipython",
    "version": 2
   },
   "file_extension": ".py",
   "mimetype": "text/x-python",
   "name": "python",
   "nbconvert_exporter": "python",
   "pygments_lexer": "ipython2",
   "version": "2.7.10"
  }
 },
 "nbformat": 4,
 "nbformat_minor": 1
}
