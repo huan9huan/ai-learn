{
 "cells": [
  {
   "cell_type": "markdown",
   "metadata": {
    "colab_type": "text",
    "id": "fSIqwWlpES_0"
   },
   "source": [
    "# 使用CNN来预测多个汉字"
   ]
  },
  {
   "cell_type": "markdown",
   "metadata": {
    "colab_type": "text",
    "id": "aNXtTRFOEZXm"
   },
   "source": [
    "## report 1： 4个字符，十个汉字的空间下，使用64X256的大小，成功率是100%"
   ]
  },
  {
   "cell_type": "code",
   "execution_count": 20,
   "metadata": {
    "colab": {
     "autoexec": {
      "startup": false,
      "wait_interval": 0
     },
     "base_uri": "https://localhost:8080/",
     "height": 819
    },
    "colab_type": "code",
    "executionInfo": {
     "elapsed": 10461,
     "status": "ok",
     "timestamp": 1532395534899,
     "user": {
      "displayName": "Huang Huan",
      "photoUrl": "//lh3.googleusercontent.com/-i1yYHd0-X3I/AAAAAAAAAAI/AAAAAAAAC-o/Z59jk8U4EQ4/s50-c-k-no/photo.jpg",
      "userId": "111113826829071176999"
     },
     "user_tz": -480
    },
    "id": "v9ynYeHUStwo",
    "outputId": "e27f2089-0522-4a88-c293-51f4eb87f5c4"
   },
   "outputs": [
    {
     "name": "stdout",
     "output_type": "stream",
     "text": [
      "--2018-07-24 01:25:25--  https://storage.cloud.google.com/simple-ocr/fonts/cnfonts.zip\r\n",
      "Resolving storage.cloud.google.com (storage.cloud.google.com)... 173.194.214.100, 173.194.214.139, 173.194.214.138, ...\r\n",
      "Connecting to storage.cloud.google.com (storage.cloud.google.com)|173.194.214.100|:443... connected.\n",
      "HTTP request sent, awaiting response... 302 Found\n",
      "Location: https://accounts.google.com/ServiceLogin?service=cds&passive=1209600&continue=https://storage.cloud.google.com/simple-ocr/fonts/cnfonts.zip&followup=https://storage.cloud.google.com/simple-ocr/fonts/cnfonts.zip [following]\n",
      "--2018-07-24 01:25:25--  https://accounts.google.com/ServiceLogin?service=cds&passive=1209600&continue=https://storage.cloud.google.com/simple-ocr/fonts/cnfonts.zip&followup=https://storage.cloud.google.com/simple-ocr/fonts/cnfonts.zip\n",
      "Resolving accounts.google.com (accounts.google.com)... 74.125.141.84, 2607:f8b0:400c:c06::54\n",
      "Connecting to accounts.google.com (accounts.google.com)|74.125.141.84|:443... connected.\n",
      "HTTP request sent, awaiting response... 200 OK\n",
      "Length: unspecified [text/html]\n",
      "Saving to: ‘cnfonts.zip’\n",
      "\n",
      "cnfonts.zip             [ <=>                ]  55.39K  --.-KB/s    in 0.003s  \n",
      "\n",
      "2018-07-24 01:25:25 (20.1 MB/s) - ‘cnfonts.zip’ saved [56719]\n",
      "\n",
      "total 64\n",
      "-rw-r--r-- 1 root root 56719 Jul 24 01:25 cnfonts.zip\n",
      "drwxr-xr-x 3 root root  4096 Jul 20 21:54 datalab\n",
      "--2018-07-24 01:25:28--  https://slackext.com/fonts/cnfonts.zip\n",
      "Resolving slackext.com (slackext.com)... 138.68.29.180\n",
      "Connecting to slackext.com (slackext.com)|138.68.29.180|:443... connected.\n",
      "HTTP request sent, awaiting response... 200 OK\n",
      "Length: 86816084 (83M) [application/zip]\n",
      "Saving to: ‘cnfonts.zip’\n",
      "\n",
      "cnfonts.zip         100%[===================>]  82.79M  28.7MB/s    in 2.9s    \n",
      "\n",
      "2018-07-24 01:25:32 (28.7 MB/s) - ‘cnfonts.zip’ saved [86816084/86816084]\n",
      "\n",
      "Archive:  cnfonts.zip\n",
      "   creating: fonts/\n",
      "  inflating: fonts/NotoSansHans-Medium.otf  \n",
      "  inflating: fonts/NotoSansHans-Light.otf  \n",
      "  inflating: fonts/fangzheng_shusong.ttf  \n",
      "  inflating: fonts/NotoSansHans-Regular.otf  \n",
      "  inflating: fonts/fangzheng_jieti.TTF  \n",
      "  inflating: fonts/NotoSansHans-Thin-Windows.otf  \n",
      "  inflating: fonts/mingliu.ttc       \n",
      "  inflating: fonts/NotoSansHans-Bold.otf  \n",
      "  inflating: fonts/DroidSansFallbackFull.ttf  \n",
      "  inflating: fonts/NotoSansHans-DemiLight.otf  \n",
      "  inflating: fonts/fangzheng_heiti.TTF  \n",
      "  inflating: fonts/fangzheng_fangsong.ttf  \n",
      "  inflating: fonts/NotoSansHans-Black.otf  \n",
      "  inflating: fonts/msyh.ttf          \n"
     ]
    }
   ],
   "source": [
    "#prepare the data\n",
    "# !wget https://storage.cloud.google.com/simple-ocr/fonts/cnfonts.zip\n",
    "!ls -l\n",
    "!rm cnfonts.zip\n",
    "!wget https://slackext.com/fonts/cnfonts.zip\n",
    "!unzip cnfonts.zip "
   ]
  },
  {
   "cell_type": "code",
   "execution_count": 21,
   "metadata": {
    "colab": {
     "autoexec": {
      "startup": false,
      "wait_interval": 0
     },
     "base_uri": "https://localhost:8080/",
     "height": 272
    },
    "colab_type": "code",
    "executionInfo": {
     "elapsed": 5554,
     "status": "ok",
     "timestamp": 1532395540484,
     "user": {
      "displayName": "Huang Huan",
      "photoUrl": "//lh3.googleusercontent.com/-i1yYHd0-X3I/AAAAAAAAAAI/AAAAAAAAC-o/Z59jk8U4EQ4/s50-c-k-no/photo.jpg",
      "userId": "111113826829071176999"
     },
     "user_tz": -480
    },
    "id": "CiupCnDkS1Ka",
    "outputId": "5d2e5dc1-c5be-43e3-9058-bc7ad4d19a3a"
   },
   "outputs": [
    {
     "name": "stdout",
     "output_type": "stream",
     "text": [
      "rm: cannot remove 'chinese_labels.zip': No such file or directory\n",
      "--2018-07-24 01:25:37--  https://slackext.com/chinese_labels.zip\n",
      "Resolving slackext.com (slackext.com)... 138.68.29.180\n",
      "Connecting to slackext.com (slackext.com)|138.68.29.180|:443... connected.\n",
      "HTTP request sent, awaiting response... 200 OK\n",
      "Length: 28865 (28K) [application/zip]\n",
      "Saving to: ‘chinese_labels.zip’\n",
      "\n",
      "chinese_labels.zip  100%[===================>]  28.19K  --.-KB/s    in 0s      \n",
      "\n",
      "2018-07-24 01:25:37 (221 MB/s) - ‘chinese_labels.zip’ saved [28865/28865]\n",
      "\n",
      "Archive:  chinese_labels.zip\n",
      "  inflating: chinese_labels          \n",
      "chinese_labels\tchinese_labels.zip  cnfonts.zip  datalab  fonts\n"
     ]
    }
   ],
   "source": [
    "!rm chinese_labels.zip\n",
    "!wget https://slackext.com/chinese_labels.zip\n",
    "!unzip chinese_labels.zip\n",
    "!ls"
   ]
  },
  {
   "cell_type": "code",
   "execution_count": 0,
   "metadata": {
    "colab": {
     "autoexec": {
      "startup": false,
      "wait_interval": 0
     }
    },
    "colab_type": "code",
    "id": "II6su-kLS3C5"
   },
   "outputs": [],
   "source": [
    "import numpy as np\n",
    "import cv2\n",
    "import pickle\n",
    "import random\n",
    "from PIL import Image\n",
    "from PIL import ImageFont\n",
    "from PIL import ImageDraw\n",
    "import os\n",
    "import cv2\n",
    "import json\n",
    "import random\n",
    "import numpy as np\n",
    "import shutil\n",
    "import traceback\n",
    "import copy\n",
    "import errno\n",
    "import sys\n",
    "import matplotlib.pyplot as plt\n",
    "import time\n",
    "%matplotlib inline\n",
    "\n",
    "from keras.models import *\n",
    "from keras.layers import *\n",
    "from keras.optimizers import *"
   ]
  },
  {
   "cell_type": "code",
   "execution_count": 0,
   "metadata": {
    "colab": {
     "autoexec": {
      "startup": false,
      "wait_interval": 0
     }
    },
    "colab_type": "code",
    "id": "stoMJhfkS6RU"
   },
   "outputs": [],
   "source": [
    "def get_label_dict():\n",
    "    f=open('./chinese_labels','r')\n",
    "    label_dict = pickle.load(f)\n",
    "    f.close()\n",
    "    return label_dict\n"
   ]
  },
  {
   "cell_type": "code",
   "execution_count": 25,
   "metadata": {
    "colab": {
     "autoexec": {
      "startup": false,
      "wait_interval": 0
     },
     "base_uri": "https://localhost:8080/",
     "height": 164
    },
    "colab_type": "code",
    "executionInfo": {
     "elapsed": 867,
     "status": "ok",
     "timestamp": 1532395552271,
     "user": {
      "displayName": "Huang Huan",
      "photoUrl": "//lh3.googleusercontent.com/-i1yYHd0-X3I/AAAAAAAAAAI/AAAAAAAAC-o/Z59jk8U4EQ4/s50-c-k-no/photo.jpg",
      "userId": "111113826829071176999"
     },
     "user_tz": -480
    },
    "id": "m1BDMJUyTiys",
    "outputId": "cc5b010b-ffa1-47de-dcb8-aecc06cc7e7b"
   },
   "outputs": [
    {
     "name": "stdout",
     "output_type": "stream",
     "text": [
      "font as - fangzheng_heiti.TTF\n"
     ]
    },
    {
     "data": {
      "text/plain": [
       "<matplotlib.image.AxesImage at 0x7faa683c7750>"
      ]
     },
     "execution_count": 25,
     "metadata": {
      "tags": []
     },
     "output_type": "execute_result"
    },
    {
     "data": {
      "image/png": "[encoded data removed]",
      "text/plain": [
       "<matplotlib.figure.Figure at 0x7faa6ba61390>"
      ]
     },
     "metadata": {
      "tags": []
     },
     "output_type": "display_data"
    }
   ],
   "source": [
    "def draw_text(text, font, line_height = 20, w_h = 1.0):\n",
    "    text_height = int(line_height * 0.7)\n",
    "    line_width = int(text_height * len(text) * w_h)\n",
    "    img = Image.new(\"RGB\", (line_width, line_height), \"black\")\n",
    "    draw = ImageDraw.Draw(img)\n",
    "    \n",
    "    # 白色字体\n",
    "    draw.text((0, line_height * 0.05), text, (255, 255, 255), font=font)\n",
    "    return img\n",
    "\n",
    "# _, axs = plt.subplots(1, 2, figsize=(15,15))\n",
    "\n",
    "\n",
    "fonts = os.listdir(\"./fonts\")\n",
    "name = fonts[np.random.randint(len(fonts))]\n",
    "print(\"font as - \" + name)\n",
    "font_path = \"./fonts/\" + name\n",
    "font = ImageFont.truetype(font_path, int(20 * 0.7))\n",
    "\n",
    "text = u\"你好再见好的\"\n",
    "img = draw_text(text, font, w_h = 1.0);\n",
    "plt.imshow(img)"
   ]
  },
  {
   "cell_type": "code",
   "execution_count": 78,
   "metadata": {
    "colab": {
     "autoexec": {
      "startup": false,
      "wait_interval": 0
     },
     "base_uri": "https://localhost:8080/",
     "height": 127
    },
    "colab_type": "code",
    "executionInfo": {
     "elapsed": 927,
     "status": "ok",
     "timestamp": 1532397748118,
     "user": {
      "displayName": "Huang Huan",
      "photoUrl": "//lh3.googleusercontent.com/-i1yYHd0-X3I/AAAAAAAAAAI/AAAAAAAAC-o/Z59jk8U4EQ4/s50-c-k-no/photo.jpg",
      "userId": "111113826829071176999"
     },
     "user_tz": -480
    },
    "id": "JS7GyM4QcfAu",
    "outputId": "684874fc-ff58-43a3-a387-3555bdd267a9"
   },
   "outputs": [
    {
     "name": "stdout",
     "output_type": "stream",
     "text": [
      "(100, 400)\n",
      "test decode...\n",
      "好你见再\n"
     ]
    },
    {
     "data": {
      "image/png": "[encoded data removed]",
      "text/plain": [
       "<matplotlib.figure.Figure at 0x7faa5d1cc990>"
      ]
     },
     "metadata": {
      "tags": []
     },
     "output_type": "display_data"
    }
   ],
   "source": [
    "def gen(characters, batch_size=32, height = 20, n_len = 4, w_h = 1.0):\n",
    "    n_class = len(characters)\n",
    "    text_height = height\n",
    "    width = int(n_len * height * w_h)\n",
    "    fonts = [ImageFont.truetype(\"./fonts/\" + name, text_height) for name in os.listdir(\"./fonts\")]\n",
    "    X = np.zeros((batch_size, height, width), dtype=np.uint8)\n",
    "    y = [np.zeros((batch_size, n_class), dtype=np.uint8) for i in range(n_len)]\n",
    "    while True:\n",
    "        for i in range(batch_size):\n",
    "            text = ''.join([random.choice(characters) for j in range(n_len)])\n",
    "            font = fonts[np.random.randint(len(fonts))]\n",
    "            img = Image.new(\"RGB\", (width, height), \"black\")\n",
    "            draw = ImageDraw.Draw(img)\n",
    "            draw.text((0, 0), text, (255, 255, 255), font=font)\n",
    "            X[i] = img.convert('L')\n",
    "            for j, ch in enumerate(text):\n",
    "                y[j][i, :] = 0\n",
    "                y[j][i, characters.find(ch)] = 1\n",
    "        yield X, y\n",
    "        \n",
    "def decode(characters, y):\n",
    "    y = np.argmax(np.array(y), axis=2)[:,0]\n",
    "    return ''.join([characters[x] for x in y])\n"
   ]
  },
  {
   "cell_type": "code",
   "execution_count": 84,
   "metadata": {
    "colab": {
     "autoexec": {
      "startup": false,
      "wait_interval": 0
     },
     "base_uri": "https://localhost:8080/",
     "height": 127
    },
    "colab_type": "code",
    "executionInfo": {
     "elapsed": 2315,
     "status": "ok",
     "timestamp": 1532397936715,
     "user": {
      "displayName": "Huang Huan",
      "photoUrl": "//lh3.googleusercontent.com/-i1yYHd0-X3I/AAAAAAAAAAI/AAAAAAAAC-o/Z59jk8U4EQ4/s50-c-k-no/photo.jpg",
      "userId": "111113826829071176999"
     },
     "user_tz": -480
    },
    "id": "D-x_kBGUCL9s",
    "outputId": "9460d976-9a29-4459-9ff3-da89b85b5080"
   },
   "outputs": [
    {
     "name": "stdout",
     "output_type": "stream",
     "text": [
      "(100, 400)\n",
      "test decode...\n",
      "再再见好\n"
     ]
    },
    {
     "data": {
      "image/png": "[encoded data removed]",
      "text/plain": [
       "<matplotlib.figure.Figure at 0x7faa5ced1f90>"
      ]
     },
     "metadata": {
      "tags": []
     },
     "output_type": "display_data"
    }
   ],
   "source": [
    "# test the generator  \n",
    "_,axs = plt.subplots(1, 3)\n",
    "X,y = next(gen(\"ABCD\", batch_size = 1))\n",
    "axs[0].imshow(X[0])\n",
    "\n",
    "X,y = next(gen(\"abcd\", batch_size = 1))\n",
    "axs[1].imshow(X[0])\n",
    "\n",
    "test_characters = u\"你好再见\"\n",
    "X,y = next(gen(test_characters, batch_size = 1, w_h = 1.0, height = 100))\n",
    "axs[2].imshow(X[0])\n",
    "print(X[0].shape)\n",
    "\n",
    "print(\"test decode...\")\n",
    "print(decode(test_characters, y))"
   ]
  },
  {
   "cell_type": "code",
   "execution_count": 0,
   "metadata": {
    "colab": {
     "autoexec": {
      "startup": false,
      "wait_interval": 0
     }
    },
    "colab_type": "code",
    "id": "X9ENvCJo2SyK"
   },
   "outputs": [],
   "source": [
    "def build_model(height, width, n_len, n_class):\n",
    "  input_tensor = Input((height, width))\n",
    "  x = input_tensor\n",
    "  x = Reshape(target_shape=(height, width, 1))(x)\n",
    "  for i in range(2):\n",
    "      x = Convolution2D(32*2**i, (3, 3), activation='relu', padding=\"same\")(x)\n",
    "      x = Convolution2D(32*2**i, (3, 3), activation='relu', padding=\"same\")(x)\n",
    "      x = MaxPooling2D((2, 2))(x)\n",
    "\n",
    "  x = Flatten()(x)\n",
    "  x = Dropout(0.25)(x)\n",
    "  x = [Dense(n_class, activation='softmax', name='c%d'%(i+1))(x) for i in range(n_len)]\n",
    "  model = Model(input=input_tensor, output=x)\n",
    "\n",
    "  model.compile(loss='categorical_crossentropy',\n",
    "                optimizer='adadelta',\n",
    "                metrics=['accuracy'])\n",
    "  return model"
   ]
  },
  {
   "cell_type": "code",
   "execution_count": 0,
   "metadata": {
    "colab": {
     "autoexec": {
      "startup": false,
      "wait_interval": 0
     }
    },
    "colab_type": "code",
    "id": "oZ4xJWzN2pgs"
   },
   "outputs": [],
   "source": [
    "# 系统的全局变量\n",
    "height = 64 #图片的高度\n",
    "width = height * n_len # 图片的宽度\n",
    "n_len = 4 #一次识别中字符的个数\n",
    "characters=u\"一二三四五六七八九零\""
   ]
  },
  {
   "cell_type": "code",
   "execution_count": 98,
   "metadata": {
    "colab": {
     "autoexec": {
      "startup": false,
      "wait_interval": 0
     },
     "base_uri": "https://localhost:8080/",
     "height": 666
    },
    "colab_type": "code",
    "executionInfo": {
     "elapsed": 868,
     "status": "ok",
     "timestamp": 1532398212908,
     "user": {
      "displayName": "Huang Huan",
      "photoUrl": "//lh3.googleusercontent.com/-i1yYHd0-X3I/AAAAAAAAAAI/AAAAAAAAC-o/Z59jk8U4EQ4/s50-c-k-no/photo.jpg",
      "userId": "111113826829071176999"
     },
     "user_tz": -480
    },
    "id": "fRVhtoTM9qFi",
    "outputId": "020a44c9-6c2f-4051-ef46-d809745b3dd2"
   },
   "outputs": [
    {
     "name": "stdout",
     "output_type": "stream",
     "text": [
      "__________________________________________________________________________________________________\n",
      "Layer (type)                    Output Shape         Param #     Connected to                     \n",
      "==================================================================================================\n",
      "input_16 (InputLayer)           (None, 64, 256)      0                                            \n",
      "__________________________________________________________________________________________________\n",
      "reshape_15 (Reshape)            (None, 64, 256, 1)   0           input_16[0][0]                   \n",
      "__________________________________________________________________________________________________\n",
      "conv2d_51 (Conv2D)              (None, 64, 256, 32)  320         reshape_15[0][0]                 \n",
      "__________________________________________________________________________________________________\n",
      "conv2d_52 (Conv2D)              (None, 64, 256, 32)  9248        conv2d_51[0][0]                  \n",
      "__________________________________________________________________________________________________\n",
      "max_pooling2d_25 (MaxPooling2D) (None, 32, 128, 32)  0           conv2d_52[0][0]                  \n",
      "__________________________________________________________________________________________________\n",
      "conv2d_53 (Conv2D)              (None, 32, 128, 64)  18496       max_pooling2d_25[0][0]           \n",
      "__________________________________________________________________________________________________\n",
      "conv2d_54 (Conv2D)              (None, 32, 128, 64)  36928       conv2d_53[0][0]                  \n",
      "__________________________________________________________________________________________________\n",
      "max_pooling2d_26 (MaxPooling2D) (None, 16, 64, 64)   0           conv2d_54[0][0]                  \n",
      "__________________________________________________________________________________________________\n",
      "flatten_13 (Flatten)            (None, 65536)        0           max_pooling2d_26[0][0]           \n",
      "__________________________________________________________________________________________________\n",
      "dropout_13 (Dropout)            (None, 65536)        0           flatten_13[0][0]                 \n",
      "__________________________________________________________________________________________________\n",
      "c1 (Dense)                      (None, 10)           655370      dropout_13[0][0]                 \n",
      "__________________________________________________________________________________________________\n",
      "c2 (Dense)                      (None, 10)           655370      dropout_13[0][0]                 \n",
      "__________________________________________________________________________________________________\n",
      "c3 (Dense)                      (None, 10)           655370      dropout_13[0][0]                 \n",
      "__________________________________________________________________________________________________\n",
      "c4 (Dense)                      (None, 10)           655370      dropout_13[0][0]                 \n",
      "==================================================================================================\n",
      "Total params: 2,686,472\n",
      "Trainable params: 2,686,472\n",
      "Non-trainable params: 0\n",
      "__________________________________________________________________________________________________\n"
     ]
    },
    {
     "name": "stderr",
     "output_type": "stream",
     "text": [
      "/usr/local/lib/python2.7/dist-packages/ipykernel_launcher.py:13: UserWarning: Update your `Model` call to the Keras 2 API: `Model(outputs=[<tf.Tenso..., inputs=Tensor(\"in...)`\n",
      "  del sys.path[0]\n"
     ]
    }
   ],
   "source": [
    "model = build_model(height, width, n_len, len(characters))\n",
    "model.summary()"
   ]
  },
  {
   "cell_type": "code",
   "execution_count": 0,
   "metadata": {
    "colab": {
     "autoexec": {
      "startup": false,
      "wait_interval": 0
     }
    },
    "colab_type": "code",
    "id": "NaaCXDKB72FU"
   },
   "outputs": [],
   "source": [
    "model.fit_generator(gen(characters,height=height), samples_per_epoch=1280, nb_epoch=5, \n",
    "                    nb_worker=2, pickle_safe=True, \n",
    "                    validation_data=gen(characters,height=height), nb_val_samples=160)"
   ]
  },
  {
   "cell_type": "code",
   "execution_count": 102,
   "metadata": {
    "colab": {
     "autoexec": {
      "startup": false,
      "wait_interval": 0
     },
     "base_uri": "https://localhost:8080/",
     "height": 203
    },
    "colab_type": "code",
    "executionInfo": {
     "elapsed": 1039,
     "status": "ok",
     "timestamp": 1532398429240,
     "user": {
      "displayName": "Huang Huan",
      "photoUrl": "//lh3.googleusercontent.com/-i1yYHd0-X3I/AAAAAAAAAAI/AAAAAAAAC-o/Z59jk8U4EQ4/s50-c-k-no/photo.jpg",
      "userId": "111113826829071176999"
     },
     "user_tz": -480
    },
    "id": "ip-snAQg-3Ge",
    "outputId": "49fac9fd-b7f7-4c06-ae26-d1b1ec57a2c6"
   },
   "outputs": [
    {
     "name": "stdout",
     "output_type": "stream",
     "text": [
      "('truth', u'\\u96f6\\u4e5d\\u4e09\\u4e5d')\n",
      "('pred as', u'\\u96f6\\u4e5d\\u4e09\\u4e5d')\n",
      "('X shape', (1, 64, 256))\n"
     ]
    },
    {
     "data": {
      "text/plain": [
       "<matplotlib.image.AxesImage at 0x7faa5c61e910>"
      ]
     },
     "execution_count": 102,
     "metadata": {
      "tags": []
     },
     "output_type": "execute_result"
    },
    {
     "data": {
      "image/png": "[encoded data removed]",
      "text/plain": [
       "<matplotlib.figure.Figure at 0x7faa5d399e50>"
      ]
     },
     "metadata": {
      "tags": []
     },
     "output_type": "display_data"
    }
   ],
   "source": [
    "# 手动测试模型\n",
    "\n",
    "X, y = next(gen(characters, height = 64, batch_size = 1))\n",
    "y_pred = model.predict(X)\n",
    "print(\"truth\", decode(characters, y))\n",
    "print(\"pred as\",decode(characters, y_pred))\n",
    "print(\"X shape\", X.shape)\n",
    "plt.imshow(X[0])"
   ]
  },
  {
   "cell_type": "code",
   "execution_count": 104,
   "metadata": {
    "colab": {
     "autoexec": {
      "startup": false,
      "wait_interval": 0
     },
     "base_uri": "https://localhost:8080/",
     "height": 51
    },
    "colab_type": "code",
    "executionInfo": {
     "elapsed": 3045,
     "status": "ok",
     "timestamp": 1532398478218,
     "user": {
      "displayName": "Huang Huan",
      "photoUrl": "//lh3.googleusercontent.com/-i1yYHd0-X3I/AAAAAAAAAAI/AAAAAAAAC-o/Z59jk8U4EQ4/s50-c-k-no/photo.jpg",
      "userId": "111113826829071176999"
     },
     "user_tz": -480
    },
    "id": "Z-xBah90_ATY",
    "outputId": "56265ac3-324b-46ef-a44b-0e241636cd3f"
   },
   "outputs": [
    {
     "name": "stderr",
     "output_type": "stream",
     "text": [
      "100%|██████████| 32/32 [00:02<00:00, 14.61it/s]\n"
     ]
    },
    {
     "data": {
      "text/plain": [
       "1.0"
      ]
     },
     "execution_count": 104,
     "metadata": {
      "tags": []
     },
     "output_type": "execute_result"
    }
   ],
   "source": [
    "# evaluate\n",
    "# !pip install tqdm\n",
    "\n",
    "from tqdm import tqdm\n",
    "def evaluate(model, batch_num=32):\n",
    "    batch_acc = 0\n",
    "    generator = gen(characters, height = height)\n",
    "    for i in tqdm(range(batch_num)):\n",
    "        X, y = next(generator)\n",
    "        y_pred = model.predict(X)\n",
    "        y_pred = np.argmax(y_pred, axis=2).T\n",
    "        y_true = np.argmax(y, axis=2).T\n",
    "        batch_acc += np.mean(map(np.array_equal, y_true, y_pred))\n",
    "    return batch_acc / batch_num\n",
    "\n",
    "evaluate(model)"
   ]
  }
 ],
 "metadata": {
  "accelerator": "GPU",
  "colab": {
   "collapsed_sections": [],
   "default_view": {},
   "name": "多字符ocr-cnn.ipynb",
   "provenance": [],
   "version": "0.3.2",
   "views": {}
  },
  "kernelspec": {
   "display_name": "Python 2",
   "language": "python",
   "name": "python2"
  },
  "language_info": {
   "codemirror_mode": {
    "name": "ipython",
    "version": 2
   },
   "file_extension": ".py",
   "mimetype": "text/x-python",
   "name": "python",
   "nbconvert_exporter": "python",
   "pygments_lexer": "ipython2",
   "version": "2.7.10"
  }
 },
 "nbformat": 4,
 "nbformat_minor": 1
}
